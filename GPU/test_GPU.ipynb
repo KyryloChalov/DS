{
 "cells": [
  {
   "cell_type": "code",
   "execution_count": 1,
   "id": "02aeff3d",
   "metadata": {},
   "outputs": [],
   "source": [
    "# %pip install tensorflow"
   ]
  },
  {
   "cell_type": "code",
   "execution_count": 2,
   "id": "88e5bf27",
   "metadata": {},
   "outputs": [],
   "source": [
    "import tensorflow as tf\n",
    "from icecream import ic"
   ]
  },
  {
   "cell_type": "code",
   "execution_count": 3,
   "id": "84de5030",
   "metadata": {},
   "outputs": [],
   "source": [
    "BLUE = '\\033[94m'\n",
    "RED = '\\033[91m'\n",
    "RESET = '\\033[0m'"
   ]
  },
  {
   "cell_type": "code",
   "execution_count": 4,
   "id": "4b5ed59c",
   "metadata": {},
   "outputs": [
    {
     "name": "stdout",
     "output_type": "stream",
     "text": [
      "\u001b[94mTensorFlow 2.16.1, \u001b[0m\n",
      "Visible Devices:  [PhysicalDevice(name='/physical_device:CPU:0', device_type='CPU')]\n"
     ]
    },
    {
     "name": "stderr",
     "output_type": "stream",
     "text": [
      "ic| 'GPUs available:'\n",
      "ic| gpus: []\n",
      "ic| len(gpus): 0\n"
     ]
    },
    {
     "name": "stdout",
     "output_type": "stream",
     "text": [
      "\u001b[91mNo GPU found, using CPU.\u001b[0m\n"
     ]
    }
   ],
   "source": [
    "print(f\"{BLUE}TensorFlow {tf.__version__}, {RESET}\")\n",
    "# Ensure we see the GPU in device list\n",
    "print('Visible Devices: ', tf.config.get_visible_devices())\n",
    "# gpus = tf.config.list_physical_devices(\"CPU\")\n",
    "gpus = tf.config.list_physical_devices(\"GPU\")\n",
    "ic(\"GPUs available:\")\n",
    "ic(gpus)\n",
    "ic(len(gpus))\n",
    "if gpus:\n",
    "    details = tf.config.experimental.get_device_details(gpus[0])\n",
    "    print(\"GPU details: \", details)\n",
    "else:\n",
    "    print(f\"{RED}No GPU found, using CPU.{RESET}\")"
   ]
  }
 ],
 "metadata": {
  "kernelspec": {
   "display_name": "ds-rEpFRPgy-py3.12",
   "language": "python",
   "name": "python3"
  },
  "language_info": {
   "codemirror_mode": {
    "name": "ipython",
    "version": 3
   },
   "file_extension": ".py",
   "mimetype": "text/x-python",
   "name": "python",
   "nbconvert_exporter": "python",
   "pygments_lexer": "ipython3",
   "version": "3.12.7"
  }
 },
 "nbformat": 4,
 "nbformat_minor": 5
}
