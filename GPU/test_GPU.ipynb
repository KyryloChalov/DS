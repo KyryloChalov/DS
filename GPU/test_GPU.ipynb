{
 "cells": [
  {
   "cell_type": "code",
   "execution_count": 51,
   "id": "02aeff3d",
   "metadata": {},
   "outputs": [],
   "source": [
    "# %pip install tensorflow"
   ]
  },
  {
   "cell_type": "code",
   "execution_count": 52,
   "id": "88e5bf27",
   "metadata": {},
   "outputs": [],
   "source": [
    "import tensorflow as tf"
   ]
  },
  {
   "cell_type": "code",
   "execution_count": 53,
   "id": "84de5030",
   "metadata": {},
   "outputs": [],
   "source": [
    "BLUE = '\\033[94m'\n",
    "RED = '\\033[31m'\n",
    "RESET = '\\033[0m'"
   ]
  },
  {
   "cell_type": "code",
   "execution_count": 54,
   "id": "5a97971e",
   "metadata": {},
   "outputs": [
    {
     "name": "stdout",
     "output_type": "stream",
     "text": [
      "\u001b[94mTensorFlow 2.16.1, \u001b[0m\n"
     ]
    }
   ],
   "source": [
    "print(f\"{BLUE}TensorFlow {tf.__version__}, {RESET}\")"
   ]
  },
  {
   "cell_type": "code",
   "execution_count": 55,
   "id": "a72f8964",
   "metadata": {},
   "outputs": [
    {
     "name": "stdout",
     "output_type": "stream",
     "text": [
      "Visible Devices:  [PhysicalDevice(name='/physical_device:CPU:0', device_type='CPU')]\n",
      "Num Visible Devices: 1\n",
      "Device: /physical_device:CPU:0, Type: CPU\n"
     ]
    }
   ],
   "source": [
    "# Visible device list\n",
    "visible_devices = tf.config.get_visible_devices()\n",
    "print('Visible Devices: ', visible_devices)\n",
    "print(\"Num Visible Devices:\", len(visible_devices))\n",
    "\n",
    "for device in visible_devices:\n",
    "    print(f\"Device: {device.name}, Type: {device.device_type}\")"
   ]
  },
  {
   "cell_type": "code",
   "execution_count": null,
   "id": "4b5ed59c",
   "metadata": {},
   "outputs": [
    {
     "name": "stdout",
     "output_type": "stream",
     "text": [
      "Num CPUs: 1\n",
      "Device: /physical_device:CPU:0, Type: CPU\n",
      "CPU details:  {}\n"
     ]
    }
   ],
   "source": [
    "# Ensure we see the CPU in device list\n",
    "cpus = tf.config.list_physical_devices(\"CPU\")\n",
    "\n",
    "print(\"Num CPUs:\", len(cpus))\n",
    "for cpu in cpus:\n",
    "    print(f\"Device: {cpu.name}, Type: {cpu.device_type}\")\n",
    "\n",
    "if cpus:\n",
    "    details_cpu = tf.config.experimental.get_device_details(cpus[0])\n",
    "    print(\"CPU details: \", details_cpu)"
   ]
  },
  {
   "cell_type": "code",
   "execution_count": 57,
   "id": "76b27e61",
   "metadata": {},
   "outputs": [
    {
     "name": "stdout",
     "output_type": "stream",
     "text": [
      "Num GPUs: 0\n",
      "\u001b[31mNo GPU found\u001b[0m\n"
     ]
    }
   ],
   "source": [
    "# Ensure we see the GPU in device list\n",
    "gpus = tf.config.list_physical_devices(\"GPU\")\n",
    "\n",
    "print(\"Num GPUs:\", len(gpus))\n",
    "for gpu in gpus:\n",
    "    print(f\"Device: {gpu.name}, Type: {gpu.device_type}\")\n",
    "\n",
    "if gpus:\n",
    "    details_gpu = tf.config.experimental.get_device_details(gpus[0])\n",
    "    print(\"GPU details: \", details_gpu)\n",
    "else:\n",
    "    print(f\"{RED}No GPU found{RESET}\")"
   ]
  },
  {
   "cell_type": "code",
   "execution_count": 1,
   "id": "f0cdf63c",
   "metadata": {},
   "outputs": [
    {
     "name": "stdout",
     "output_type": "stream",
     "text": [
      "Requirement already satisfied: torch in c:\\users\\ks797\\appdata\\local\\pypoetry\\cache\\virtualenvs\\ds-repfrpgy-py3.12\\lib\\site-packages (2.7.1)\n",
      "Requirement already satisfied: filelock in c:\\users\\ks797\\appdata\\local\\pypoetry\\cache\\virtualenvs\\ds-repfrpgy-py3.12\\lib\\site-packages (from torch) (3.18.0)\n",
      "Requirement already satisfied: typing-extensions>=4.10.0 in c:\\users\\ks797\\appdata\\local\\pypoetry\\cache\\virtualenvs\\ds-repfrpgy-py3.12\\lib\\site-packages (from torch) (4.12.2)\n",
      "Requirement already satisfied: sympy>=1.13.3 in c:\\users\\ks797\\appdata\\local\\pypoetry\\cache\\virtualenvs\\ds-repfrpgy-py3.12\\lib\\site-packages (from torch) (1.14.0)\n",
      "Requirement already satisfied: networkx in c:\\users\\ks797\\appdata\\local\\pypoetry\\cache\\virtualenvs\\ds-repfrpgy-py3.12\\lib\\site-packages (from torch) (3.5)\n",
      "Requirement already satisfied: jinja2 in c:\\users\\ks797\\appdata\\local\\pypoetry\\cache\\virtualenvs\\ds-repfrpgy-py3.12\\lib\\site-packages (from torch) (3.1.3)\n",
      "Requirement already satisfied: fsspec in c:\\users\\ks797\\appdata\\local\\pypoetry\\cache\\virtualenvs\\ds-repfrpgy-py3.12\\lib\\site-packages (from torch) (2025.5.1)\n",
      "Requirement already satisfied: setuptools in c:\\users\\ks797\\appdata\\local\\pypoetry\\cache\\virtualenvs\\ds-repfrpgy-py3.12\\lib\\site-packages (from torch) (70.0.0)\n",
      "Requirement already satisfied: mpmath<1.4,>=1.1.0 in c:\\users\\ks797\\appdata\\local\\pypoetry\\cache\\virtualenvs\\ds-repfrpgy-py3.12\\lib\\site-packages (from sympy>=1.13.3->torch) (1.3.0)\n",
      "Requirement already satisfied: MarkupSafe>=2.0 in c:\\users\\ks797\\appdata\\local\\pypoetry\\cache\\virtualenvs\\ds-repfrpgy-py3.12\\lib\\site-packages (from jinja2->torch) (2.1.5)\n",
      "Note: you may need to restart the kernel to use updated packages.\n"
     ]
    },
    {
     "name": "stderr",
     "output_type": "stream",
     "text": [
      "\n",
      "[notice] A new release of pip is available: 24.1 -> 25.1.1\n",
      "[notice] To update, run: python.exe -m pip install --upgrade pip\n"
     ]
    }
   ],
   "source": [
    "# %pip install PyTorch\n",
    "%pip install torch"
   ]
  },
  {
   "cell_type": "code",
   "execution_count": 2,
   "id": "43d27800",
   "metadata": {},
   "outputs": [
    {
     "name": "stdout",
     "output_type": "stream",
     "text": [
      "cpu\n"
     ]
    }
   ],
   "source": [
    "import torch\n",
    "device = torch.device(\"cuda\" if torch.cuda.is_available() else \"cpu\")\n",
    "print(device)\n",
    "# print(torch.cuda.get_device_name(0))"
   ]
  },
  {
   "cell_type": "code",
   "execution_count": null,
   "id": "f57db083",
   "metadata": {},
   "outputs": [
    {
     "name": "stdout",
     "output_type": "stream",
     "text": [
      "Requirement already satisfied: pip in c:\\users\\ks797\\appdata\\local\\pypoetry\\cache\\virtualenvs\\ds-repfrpgy-py3.12\\lib\\site-packages (24.1)\n",
      "Collecting pip\n",
      "  Downloading pip-25.1.1-py3-none-any.whl.metadata (3.6 kB)\n",
      "Downloading pip-25.1.1-py3-none-any.whl (1.8 MB)\n",
      "   ---------------------------------------- 0.0/1.8 MB ? eta -:--:--\n",
      "   - -------------------------------------- 0.1/1.8 MB 1.3 MB/s eta 0:00:02\n",
      "   ----- ---------------------------------- 0.2/1.8 MB 2.4 MB/s eta 0:00:01\n",
      "   -------- ------------------------------- 0.4/1.8 MB 3.1 MB/s eta 0:00:01\n",
      "   --------------------- ------------------ 1.0/1.8 MB 4.9 MB/s eta 0:00:01\n",
      "   ----------------------------- ---------- 1.4/1.8 MB 5.8 MB/s eta 0:00:01\n",
      "   ---------------------------------------  1.8/1.8 MB 6.4 MB/s eta 0:00:01\n",
      "   ---------------------------------------- 1.8/1.8 MB 6.4 MB/s eta 0:00:00\n",
      "Installing collected packages: pip\n",
      "  Attempting uninstall: pip\n",
      "    Found existing installation: pip 24.1\n",
      "    Uninstalling pip-24.1:\n",
      "      Successfully uninstalled pip-24.1\n",
      "Successfully installed pip-25.1.1\n",
      "Note: you may need to restart the kernel to use updated packages.\n"
     ]
    }
   ],
   "source": [
    "# %pip install --upgrade pip"
   ]
  },
  {
   "cell_type": "code",
   "execution_count": 1,
   "id": "ca55e4a6",
   "metadata": {},
   "outputs": [
    {
     "name": "stdout",
     "output_type": "stream",
     "text": [
      "Note: you may need to restart the kernel to use updated packages.\n"
     ]
    },
    {
     "name": "stderr",
     "output_type": "stream",
     "text": [
      "ERROR: Could not find a version that satisfies the requirement tensorflow-directml (from versions: none)\n",
      "ERROR: No matching distribution found for tensorflow-directml\n"
     ]
    }
   ],
   "source": [
    "%pip install tensorflow-directml\n",
    "# import tensorflow_directml as tf_dml"
   ]
  },
  {
   "cell_type": "code",
   "execution_count": 2,
   "id": "ca5e504c",
   "metadata": {},
   "outputs": [
    {
     "name": "stdout",
     "output_type": "stream",
     "text": [
      "Physical devices: [PhysicalDevice(name='/physical_device:CPU:0', device_type='CPU')]\n"
     ]
    }
   ],
   "source": [
    "import tensorflow as tf\n",
    "print(\"Physical devices:\", tf.config.list_physical_devices())"
   ]
  },
  {
   "cell_type": "code",
   "execution_count": 4,
   "id": "c5dd1edd",
   "metadata": {},
   "outputs": [
    {
     "name": "stdout",
     "output_type": "stream",
     "text": [
      "device:  cpu\n"
     ]
    }
   ],
   "source": [
    "import torch\n",
    "device = torch.device(\"xpu\" if torch.xpu.is_available() else \"cpu\")\n",
    "print('device: ', device)\n"
   ]
  }
 ],
 "metadata": {
  "kernelspec": {
   "display_name": "ds-rEpFRPgy-py3.12",
   "language": "python",
   "name": "python3"
  },
  "language_info": {
   "codemirror_mode": {
    "name": "ipython",
    "version": 3
   },
   "file_extension": ".py",
   "mimetype": "text/x-python",
   "name": "python",
   "nbconvert_exporter": "python",
   "pygments_lexer": "ipython3",
   "version": "3.12.7"
  }
 },
 "nbformat": 4,
 "nbformat_minor": 5
}
