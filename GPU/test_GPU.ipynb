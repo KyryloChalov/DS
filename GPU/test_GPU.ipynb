{
 "cells": [
  {
   "cell_type": "code",
   "execution_count": 22,
   "id": "02aeff3d",
   "metadata": {},
   "outputs": [
    {
     "name": "stdout",
     "output_type": "stream",
     "text": [
      "Note: you may need to restart the kernel to use updated packages.Requirement already satisfied: tensorflow in c:\\users\\ks797\\appdata\\local\\pypoetry\\cache\\virtualenvs\\ds-repfrpgy-py3.12\\lib\\site-packages (2.16.1)\n",
      "Requirement already satisfied: tensorflow-intel==2.16.1 in c:\\users\\ks797\\appdata\\local\\pypoetry\\cache\\virtualenvs\\ds-repfrpgy-py3.12\\lib\\site-packages (from tensorflow) (2.16.1)\n",
      "Requirement already satisfied: absl-py>=1.0.0 in c:\\users\\ks797\\appdata\\local\\pypoetry\\cache\\virtualenvs\\ds-repfrpgy-py3.12\\lib\\site-packages (from tensorflow-intel==2.16.1->tensorflow) (2.1.0)\n",
      "Requirement already satisfied: astunparse>=1.6.0 in c:\\users\\ks797\\appdata\\local\\pypoetry\\cache\\virtualenvs\\ds-repfrpgy-py3.12\\lib\\site-packages (from tensorflow-intel==2.16.1->tensorflow) (1.6.3)\n",
      "Requirement already satisfied: flatbuffers>=23.5.26 in c:\\users\\ks797\\appdata\\local\\pypoetry\\cache\\virtualenvs\\ds-repfrpgy-py3.12\\lib\\site-packages (from tensorflow-intel==2.16.1->tensorflow) (24.3.25)\n",
      "Requirement already satisfied: gast!=0.5.0,!=0.5.1,!=0.5.2,>=0.2.1 in c:\\users\\ks797\\appdata\\local\\pypoetry\\cache\\virtualenvs\\ds-repfrpgy-py3.12\\lib\\site-packages (from tensorflow-intel==2.16.1->tensorflow) (0.5.4)\n",
      "Requirement already satisfied: google-pasta>=0.1.1 in c:\\users\\ks797\\appdata\\local\\pypoetry\\cache\\virtualenvs\\ds-repfrpgy-py3.12\\lib\\site-packages (from tensorflow-intel==2.16.1->tensorflow) (0.2.0)\n",
      "Requirement already satisfied: h5py>=3.10.0 in c:\\users\\ks797\\appdata\\local\\pypoetry\\cache\\virtualenvs\\ds-repfrpgy-py3.12\\lib\\site-packages (from tensorflow-intel==2.16.1->tensorflow) (3.11.0)\n",
      "Requirement already satisfied: libclang>=13.0.0 in c:\\users\\ks797\\appdata\\local\\pypoetry\\cache\\virtualenvs\\ds-repfrpgy-py3.12\\lib\\site-packages (from tensorflow-intel==2.16.1->tensorflow) (18.1.1)\n",
      "Requirement already satisfied: ml-dtypes~=0.3.1 in c:\\users\\ks797\\appdata\\local\\pypoetry\\cache\\virtualenvs\\ds-repfrpgy-py3.12\\lib\\site-packages (from tensorflow-intel==2.16.1->tensorflow) (0.3.2)\n",
      "Requirement already satisfied: opt-einsum>=2.3.2 in c:\\users\\ks797\\appdata\\local\\pypoetry\\cache\\virtualenvs\\ds-repfrpgy-py3.12\\lib\\site-packages (from tensorflow-intel==2.16.1->tensorflow) (3.3.0)\n",
      "Requirement already satisfied: packaging in c:\\users\\ks797\\appdata\\local\\pypoetry\\cache\\virtualenvs\\ds-repfrpgy-py3.12\\lib\\site-packages (from tensorflow-intel==2.16.1->tensorflow) (24.0)\n",
      "Requirement already satisfied: protobuf!=4.21.0,!=4.21.1,!=4.21.2,!=4.21.3,!=4.21.4,!=4.21.5,<5.0.0dev,>=3.20.3 in c:\\users\\ks797\\appdata\\local\\pypoetry\\cache\\virtualenvs\\ds-repfrpgy-py3.12\\lib\\site-packages (from tensorflow-intel==2.16.1->tensorflow) (4.25.3)\n",
      "Requirement already satisfied: requests<3,>=2.21.0 in c:\\users\\ks797\\appdata\\local\\pypoetry\\cache\\virtualenvs\\ds-repfrpgy-py3.12\\lib\\site-packages (from tensorflow-intel==2.16.1->tensorflow) (2.31.0)\n",
      "Requirement already satisfied: setuptools in c:\\users\\ks797\\appdata\\local\\pypoetry\\cache\\virtualenvs\\ds-repfrpgy-py3.12\\lib\\site-packages (from tensorflow-intel==2.16.1->tensorflow) (70.0.0)\n",
      "Requirement already satisfied: six>=1.12.0 in c:\\users\\ks797\\appdata\\local\\pypoetry\\cache\\virtualenvs\\ds-repfrpgy-py3.12\\lib\\site-packages (from tensorflow-intel==2.16.1->tensorflow) (1.16.0)\n",
      "Requirement already satisfied: termcolor>=1.1.0 in c:\\users\\ks797\\appdata\\local\\pypoetry\\cache\\virtualenvs\\ds-repfrpgy-py3.12\\lib\\site-packages (from tensorflow-intel==2.16.1->tensorflow) (2.4.0)\n",
      "Requirement already satisfied: typing-extensions>=3.6.6 in c:\\users\\ks797\\appdata\\local\\pypoetry\\cache\\virtualenvs\\ds-repfrpgy-py3.12\\lib\\site-packages (from tensorflow-intel==2.16.1->tensorflow) (4.12.2)\n",
      "Requirement already satisfied: wrapt>=1.11.0 in c:\\users\\ks797\\appdata\\local\\pypoetry\\cache\\virtualenvs\\ds-repfrpgy-py3.12\\lib\\site-packages (from tensorflow-intel==2.16.1->tensorflow) (1.16.0)\n",
      "Requirement already satisfied: grpcio<2.0,>=1.24.3 in c:\\users\\ks797\\appdata\\local\\pypoetry\\cache\\virtualenvs\\ds-repfrpgy-py3.12\\lib\\site-packages (from tensorflow-intel==2.16.1->tensorflow) (1.64.1)\n",
      "Requirement already satisfied: tensorboard<2.17,>=2.16 in c:\\users\\ks797\\appdata\\local\\pypoetry\\cache\\virtualenvs\\ds-repfrpgy-py3.12\\lib\\site-packages (from tensorflow-intel==2.16.1->tensorflow) (2.16.2)\n",
      "Requirement already satisfied: keras>=3.0.0 in c:\\users\\ks797\\appdata\\local\\pypoetry\\cache\\virtualenvs\\ds-repfrpgy-py3.12\\lib\\site-packages (from tensorflow-intel==2.16.1->tensorflow) (3.3.3)\n",
      "Requirement already satisfied: numpy<2.0.0,>=1.26.0 in c:\\users\\ks797\\appdata\\local\\pypoetry\\cache\\virtualenvs\\ds-repfrpgy-py3.12\\lib\\site-packages (from tensorflow-intel==2.16.1->tensorflow) (1.26.4)\n",
      "Requirement already satisfied: wheel<1.0,>=0.23.0 in c:\\users\\ks797\\appdata\\local\\pypoetry\\cache\\virtualenvs\\ds-repfrpgy-py3.12\\lib\\site-packages (from astunparse>=1.6.0->tensorflow-intel==2.16.1->tensorflow) (0.43.0)\n",
      "Requirement already satisfied: rich in c:\\users\\ks797\\appdata\\local\\pypoetry\\cache\\virtualenvs\\ds-repfrpgy-py3.12\\lib\\site-packages (from keras>=3.0.0->tensorflow-intel==2.16.1->tensorflow) (13.7.1)\n",
      "Requirement already satisfied: namex in c:\\users\\ks797\\appdata\\local\\pypoetry\\cache\\virtualenvs\\ds-repfrpgy-py3.12\\lib\\site-packages (from keras>=3.0.0->tensorflow-intel==2.16.1->tensorflow) (0.0.8)\n",
      "Requirement already satisfied: optree in c:\\users\\ks797\\appdata\\local\\pypoetry\\cache\\virtualenvs\\ds-repfrpgy-py3.12\\lib\\site-packages (from keras>=3.0.0->tensorflow-intel==2.16.1->tensorflow) (0.11.0)\n",
      "Requirement already satisfied: charset-normalizer<4,>=2 in c:\\users\\ks797\\appdata\\local\\pypoetry\\cache\\virtualenvs\\ds-repfrpgy-py3.12\\lib\\site-packages (from requests<3,>=2.21.0->tensorflow-intel==2.16.1->tensorflow) (3.3.2)\n",
      "Requirement already satisfied: idna<4,>=2.5 in c:\\users\\ks797\\appdata\\local\\pypoetry\\cache\\virtualenvs\\ds-repfrpgy-py3.12\\lib\\site-packages (from requests<3,>=2.21.0->tensorflow-intel==2.16.1->tensorflow) (3.7)\n",
      "Requirement already satisfied: urllib3<3,>=1.21.1 in c:\\users\\ks797\\appdata\\local\\pypoetry\\cache\\virtualenvs\\ds-repfrpgy-py3.12\\lib\\site-packages (from requests<3,>=2.21.0->tensorflow-intel==2.16.1->tensorflow) (2.2.1)\n",
      "Requirement already satisfied: certifi>=2017.4.17 in c:\\users\\ks797\\appdata\\local\\pypoetry\\cache\\virtualenvs\\ds-repfrpgy-py3.12\\lib\\site-packages (from requests<3,>=2.21.0->tensorflow-intel==2.16.1->tensorflow) (2024.2.2)\n",
      "Requirement already satisfied: markdown>=2.6.8 in c:\\users\\ks797\\appdata\\local\\pypoetry\\cache\\virtualenvs\\ds-repfrpgy-py3.12\\lib\\site-packages (from tensorboard<2.17,>=2.16->tensorflow-intel==2.16.1->tensorflow) (3.6)\n",
      "Requirement already satisfied: tensorboard-data-server<0.8.0,>=0.7.0 in c:\\users\\ks797\\appdata\\local\\pypoetry\\cache\\virtualenvs\\ds-repfrpgy-py3.12\\lib\\site-packages (from tensorboard<2.17,>=2.16->tensorflow-intel==2.16.1->tensorflow) (0.7.2)\n",
      "Requirement already satisfied: werkzeug>=1.0.1 in c:\\users\\ks797\\appdata\\local\\pypoetry\\cache\\virtualenvs\\ds-repfrpgy-py3.12\\lib\\site-packages (from tensorboard<2.17,>=2.16->tensorflow-intel==2.16.1->tensorflow) (3.0.3)\n",
      "Requirement already satisfied: MarkupSafe>=2.1.1 in c:\\users\\ks797\\appdata\\local\\pypoetry\\cache\\virtualenvs\\ds-repfrpgy-py3.12\\lib\\site-packages (from werkzeug>=1.0.1->tensorboard<2.17,>=2.16->tensorflow-intel==2.16.1->tensorflow) (2.1.5)\n",
      "Requirement already satisfied: markdown-it-py>=2.2.0 in c:\\users\\ks797\\appdata\\local\\pypoetry\\cache\\virtualenvs\\ds-repfrpgy-py3.12\\lib\\site-packages (from rich->keras>=3.0.0->tensorflow-intel==2.16.1->tensorflow) (3.0.0)\n",
      "Requirement already satisfied: pygments<3.0.0,>=2.13.0 in c:\\users\\ks797\\appdata\\local\\pypoetry\\cache\\virtualenvs\\ds-repfrpgy-py3.12\\lib\\site-packages (from rich->keras>=3.0.0->tensorflow-intel==2.16.1->tensorflow) (2.17.2)\n",
      "Requirement already satisfied: mdurl~=0.1 in c:\\users\\ks797\\appdata\\local\\pypoetry\\cache\\virtualenvs\\ds-repfrpgy-py3.12\\lib\\site-packages (from markdown-it-py>=2.2.0->rich->keras>=3.0.0->tensorflow-intel==2.16.1->tensorflow) (0.1.2)\n",
      "\n"
     ]
    },
    {
     "name": "stderr",
     "output_type": "stream",
     "text": [
      "\n",
      "[notice] A new release of pip is available: 24.1 -> 25.1.1\n",
      "[notice] To update, run: python.exe -m pip install --upgrade pip\n"
     ]
    }
   ],
   "source": [
    "%pip install tensorflow"
   ]
  },
  {
   "cell_type": "code",
   "execution_count": 23,
   "id": "88e5bf27",
   "metadata": {},
   "outputs": [],
   "source": [
    "import tensorflow as tf\n",
    "from icecream import ic"
   ]
  },
  {
   "cell_type": "code",
   "execution_count": 28,
   "id": "4b5ed59c",
   "metadata": {},
   "outputs": [
    {
     "name": "stderr",
     "output_type": "stream",
     "text": [
      "ic| 'GPUs available: ', len(gpus): 0\n"
     ]
    },
    {
     "name": "stdout",
     "output_type": "stream",
     "text": [
      "\u001b[94m TensorFlow 2.16.1 \u001b[0m\n",
      "Visible Devices:  [PhysicalDevice(name='/physical_device:CPU:0', device_type='CPU')]\n",
      "\u001b[31m No GPU found, using CPU. \u001b[0m\n"
     ]
    }
   ],
   "source": [
    "print(\"\\033[94m\", \"TensorFlow\", tf.__version__, \"\\033[0m\")\n",
    "# Ensure we see the GPU in device list\n",
    "print('Visible Devices: ', tf.config.get_visible_devices())\n",
    "gpus = tf.config.list_physical_devices(\"GPU\")\n",
    "ic(\"GPUs available: \", len(gpus))\n",
    "if gpus:\n",
    "    details = tf.config.experimental.get_device_details(gpus[0])\n",
    "    print(\"GPU details: \", details)\n",
    "else:\n",
    "    print(\"\\033[31m\", \"No GPU found, using CPU.\", \"\\033[0m\")"
   ]
  }
 ],
 "metadata": {
  "kernelspec": {
   "display_name": "ds-rEpFRPgy-py3.12",
   "language": "python",
   "name": "python3"
  },
  "language_info": {
   "codemirror_mode": {
    "name": "ipython",
    "version": 3
   },
   "file_extension": ".py",
   "mimetype": "text/x-python",
   "name": "python",
   "nbconvert_exporter": "python",
   "pygments_lexer": "ipython3",
   "version": "3.12.7"
  }
 },
 "nbformat": 4,
 "nbformat_minor": 5
}
