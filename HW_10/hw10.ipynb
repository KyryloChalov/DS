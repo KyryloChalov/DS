{
  "cells": [
    {
      "cell_type": "markdown",
      "metadata": {},
      "source": [
        "# Модуль 10. **Згорткові нейронні мережі**"
      ]
    },
    {
      "cell_type": "code",
      "execution_count": null,
      "metadata": {},
      "outputs": [],
      "source": [
        "import matplotlib.pyplot as plt\n",
        "import pandas as pd\n",
        "\n",
        "import tensorflow as tf\n",
        "from tensorflow.keras import layers, models\n",
        "from tensorflow.keras.datasets import fashion_mnist\n",
        "\n",
        "from tensorflow.keras.layers import Input, Dense\n",
        "from tensorflow.keras.models import Model\n",
        "from keras.callbacks import EarlyStopping\n",
        "from keras.callbacks import ReduceLROnPlateau\n",
        "\n",
        "import keras\n",
        "\n",
        "from keras.layers import Dense, Dropout\n",
        "from keras.models import Sequential\n",
        "\n",
        "from keras import optimizers\n",
        "from keras import losses\n",
        "from keras import metrics\n",
        "import copy"
      ]
    },
    {
      "cell_type": "code",
      "execution_count": null,
      "metadata": {},
      "outputs": [],
      "source": [
        "# константи кольору\n",
        "YELLOW = \"\\033[33m\"\n",
        "LIGHTBLUE = \"\\033[94m\"\n",
        "CYAN = \"\\033[36m\"\n",
        "GRAY_BACK = \"\\033[100m\"\n",
        "RESET = \"\\033[0m\""
      ]
    },
    {
      "cell_type": "markdown",
      "metadata": {},
      "source": [
        "### Завдання\n",
        "**Частина 1**\n",
        "\n",
        "В якості домашнього завдання вам пропонується створити нейронну мережу за допомогою механізмів Keras, яка буде класифікувати товари із датасету _fasion_mnist_ (https://www.tensorflow.org/datasets/catalog/fashion_mnist).\n",
        "\n",
        "На відміну від попереднього завдання вам пропонується створити згорткову нейромережу. Підберіть архітектуру мережі та навчіть її на даних із датасету fasion_mnist. Спробуйте досягти максимально можливої точності класифікації за рахунок маніпуляції параметрами мережі. Порівняйте точність отриманої згорткової мережі з точністю багатошарової мережі з попереднього завдання. Зробіть висновки."
      ]
    },
    {
      "cell_type": "markdown",
      "metadata": {},
      "source": [
        "<div class=\"alert alert-block alert-warning\"> В попередньому ДЗ було досягнуто точність <b>90.72%</b><br>\n",
        "Намагатимемося досягти кращого результату, застосовуючи вже відпрацьовану методику до нових моделей</div>"
      ]
    },
    {
      "cell_type": "markdown",
      "metadata": {},
      "source": [
        "    Завантаження та аналіз даних"
      ]
    },
    {
      "cell_type": "code",
      "execution_count": null,
      "metadata": {},
      "outputs": [],
      "source": [
        "(train_images, train_labels), (test_images, test_labels) = fashion_mnist.load_data()\n",
        "train_images, test_images = train_images / 255.0, test_images / 255.0"
      ]
    },
    {
      "cell_type": "code",
      "execution_count": null,
      "metadata": {},
      "outputs": [],
      "source": [
        "print(train_images.shape)\n",
        "print(train_labels.shape)\n",
        "print(test_images.shape)\n",
        "print(test_labels.shape)"
      ]
    },
    {
      "cell_type": "code",
      "execution_count": null,
      "metadata": {},
      "outputs": [],
      "source": [
        "class_names = [\n",
        "    \"T-shirt/top\",  # \"Футболка/майка\",\n",
        "    \"Trouser\",  # \"Штани\",\n",
        "    \"Pullover\",  # \"Світшот\",\n",
        "    \"Dress\",  # \"Сукня\",\n",
        "    \"Coat\",  # \"Пальто\",\n",
        "    \"Sandal\",  # \"Сандалі\",\n",
        "    \"Shirt\",  # \"Сорочка\",\n",
        "    \"Sneaker\",  # \"Кросівки\",\n",
        "    \"Bag\",  # \"Сумка\",\n",
        "    \"Ankle boot\",  # \"Ботильйони\",\n",
        "]"
      ]
    },
    {
      "cell_type": "code",
      "execution_count": null,
      "metadata": {},
      "outputs": [],
      "source": [
        "num_to_plot = 25\n",
        "\n",
        "plt.figure(figsize=(10, 10))\n",
        "\n",
        "for i in range(num_to_plot):\n",
        "    plt.subplot(5, 5, i + 1)\n",
        "    plt.xticks([])\n",
        "    plt.yticks([])\n",
        "    plt.grid(False)\n",
        "    plt.imshow(train_images[i], cmap=plt.cm.binary)\n",
        "    plt.xlabel(class_names[train_labels[i]])\n",
        "\n",
        "plt.show() "
      ]
    },
    {
      "cell_type": "markdown",
      "metadata": {},
      "source": [
        "### Допоміжні функції"
      ]
    },
    {
      "cell_type": "markdown",
      "metadata": {},
      "source": [
        "     Функція друку поточних параметрів \n",
        "######      Аргументи: <br>1.  parameters - Поточні параметри для тренування моделі<br>2. text - Заголовок списку параметрів"
      ]
    },
    {
      "cell_type": "code",
      "execution_count": null,
      "metadata": {},
      "outputs": [],
      "source": [
        "def print_parameters(parameters: dict, text='Поточні параметри:'):\n",
        "    print(f\"{LIGHTBLUE}{text}{RESET}\")\n",
        "    # print(\"-\" * 18)\n",
        "    for k, val in parameters.items():\n",
        "        print(f\" {k} \\t= {YELLOW}{val}{RESET}\")"
      ]
    },
    {
      "cell_type": "markdown",
      "metadata": {},
      "source": [
        "     Функція відображення графіків історії точності та втрат \n",
        "######      Аргументи: <br>1. history - дані історії точності та втрат<br>2.  parameters - Поточні параметри тренування моделі"
      ]
    },
    {
      "cell_type": "code",
      "execution_count": null,
      "metadata": {},
      "outputs": [],
      "source": [
        "def plt_history(history, parameters):\n",
        "\n",
        "    dict_data = {\n",
        "        \"accuracy\": \"Точність на тренувальному наборі\",\n",
        "        \"val_accuracy\": \"Точність на тестовому наборі\",\n",
        "        \"loss\": \"Втрати на тренувальному наборі\",\n",
        "        \"val_loss\": \"Втрати на тестовому наборі\",\n",
        "    }\n",
        "    epochs = range(1, len(history.history[\"accuracy\"]) + 1)\n",
        "\n",
        "    color_acc = \"royalblue\"\n",
        "    color_loss = \"peru\"\n",
        "    linestyle_train = \"--\"\n",
        "    linestyle_test = \"-\"\n",
        "\n",
        "    print_parameters(parameters)\n",
        "\n",
        "    for data_, label_ in dict_data.items():\n",
        "        plt.plot(\n",
        "            epochs,\n",
        "            history.history[data_],\n",
        "            color=color_loss if (data_[-4:] == \"loss\") else color_acc,\n",
        "            linestyle=linestyle_test if (data_[:3] == \"val\") else linestyle_train,\n",
        "            label=label_,\n",
        "        )\n",
        "\n",
        "    plt.ylim(0, 1)\n",
        "    # plt.title(\"Точність та втрати на тренувальному та тестовому наборах\")\n",
        "    plt.xlabel(\"Епоха\")\n",
        "    plt.ylabel(\"Метрика\")\n",
        "    plt.legend()\n",
        "    plt.show()"
      ]
    },
    {
      "cell_type": "markdown",
      "metadata": {},
      "source": [
        "     Функція підготовки моделі \n",
        "######      Аргументи: <br>1. model_func - Функція, що містить модель для тренування<br>2. hidden_units, activation, dropout_rate, optimizer, loss_function, metrics - Параметри для створення моделі<br>3. summary - Параметр для керування виводом даних моделі"
      ]
    },
    {
      "cell_type": "code",
      "execution_count": null,
      "metadata": {},
      "outputs": [],
      "source": [
        "def prepare_model(\n",
        "    model_func,\n",
        "    hidden_units,\n",
        "    activation,\n",
        "    dropout_rate,\n",
        "    optimizer,\n",
        "    loss_function,\n",
        "    metrics,\n",
        "    summary,\n",
        "):\n",
        "    model = model_func(hidden_units, activation, dropout_rate)\n",
        "\n",
        "    model.compile(optimizer=optimizer, loss=loss_function, metrics=metrics)\n",
        "\n",
        "    if summary:\n",
        "        model.summary()\n",
        "\n",
        "    return model"
      ]
    },
    {
      "cell_type": "markdown",
      "metadata": {},
      "source": [
        "     Функція формування callback \n",
        "######      Аргументи: <br>1.  callbacks - Список callback'ів<br>2. patience - Кількість епох без покращення, після яких швидкість навчання буде знижена<br>3. factor_lr - Коефіцієнт, на який швидкість навчання буде знижена _(new_lr = lr * factor)_"
      ]
    },
    {
      "cell_type": "code",
      "execution_count": null,
      "metadata": {},
      "outputs": [],
      "source": [
        "def make_callback(callbacks, patience=5, factor_lr=0.4, min_lr=1e-8):\n",
        "\n",
        "    callback = []\n",
        "\n",
        "    if \"ReduceLROnPlateau\" in callbacks:\n",
        "        callback.append(\n",
        "            ReduceLROnPlateau(\n",
        "                monitor=\"val_loss\", factor=factor_lr, patience=patience, min_lr=min_lr\n",
        "            )\n",
        "        )\n",
        "    if \"EarlyStopping\" in callbacks:\n",
        "        callback.append(\n",
        "            EarlyStopping(\n",
        "                monitor=\"val_accuracy\", patience=patience, restore_best_weights=True\n",
        "            )\n",
        "        )\n",
        "    return callback"
      ]
    },
    {
      "cell_type": "markdown",
      "metadata": {},
      "source": [
        "     Функція тренування моделі \n",
        "######      Аргументи: <br>1.  train_images, train_labels, test_images, test_labels - Набори даних для навчання і валідації<br>2. model_func - Функція, що містить модель для тренування<br>3. hidden_units, activation, dropout_rate, optimizer, loss_function, metrics - Параметри для створення моделі<br>4. epochs, batch_size - Параметри для тренування моделі<br>4. verbose, summary - Параметри для керування виводом даних навчання моделі"
      ]
    },
    {
      "cell_type": "code",
      "execution_count": null,
      "metadata": {},
      "outputs": [],
      "source": [
        "def train_model(\n",
        "    train_images,\n",
        "    train_labels,\n",
        "    test_images,\n",
        "    test_labels,\n",
        "    model_func,\n",
        "    epochs,\n",
        "    batch_size,\n",
        "    dropout_rate,\n",
        "    loss_function,\n",
        "    optimizer,\n",
        "    hidden_units,\n",
        "    activation,\n",
        "    metrics,\n",
        "    callbacks,\n",
        "    patience,\n",
        "    factor_lr,\n",
        "    verbose=0,\n",
        "    summary=0,\n",
        "):\n",
        "\n",
        "    callback = make_callback(\n",
        "        callbacks,\n",
        "        patience,\n",
        "        factor_lr,\n",
        "    )\n",
        "\n",
        "    model = prepare_model(\n",
        "        model_func,\n",
        "        hidden_units,\n",
        "        activation,\n",
        "        dropout_rate,\n",
        "        optimizer,\n",
        "        loss_function,\n",
        "        metrics,\n",
        "        summary,\n",
        "    )\n",
        "\n",
        "    history = model.fit(\n",
        "        train_images,\n",
        "        train_labels,\n",
        "        epochs=epochs,\n",
        "        batch_size=batch_size,\n",
        "        validation_data=(test_images, test_labels),\n",
        "        callbacks=callback,\n",
        "        verbose=verbose,\n",
        "    )\n",
        "\n",
        "    print(\"          Точність:\")\n",
        "    train_loss, train_acc = model.evaluate(train_images, train_labels)\n",
        "    print(\"          тренувальні дані: \", YELLOW, train_acc, RESET)\n",
        "\n",
        "    test_loss, test_acc = model.evaluate(test_images, test_labels)\n",
        "    print(\"          тестові дані:     \", YELLOW, test_acc, RESET)\n",
        "\n",
        "    return history, test_acc"
      ]
    },
    {
      "cell_type": "markdown",
      "metadata": {},
      "source": [
        "     Функція пошуку оптимальних параметрів \n",
        "\n",
        "######      Аргументи: <br>1.  train_images, train_labels, test_images, test_labels - Набори даних для навчання і валідації<br>2.  parameters - Параметри для тренування моделі<br>3.  optimal_parameters - Оптимальні параметри. Спочатку \"зі стелі\", під час аналізу змінюються на оптимальні<br>4.  study_sequence - Послідовність параметрів, що мають перевірятися<br>5. model_func - Функція, що містить модель для тренування"
      ]
    },
    {
      "cell_type": "code",
      "execution_count": null,
      "metadata": {},
      "outputs": [],
      "source": [
        "def find_optimal_parameters(\n",
        "    parameters,\n",
        "    study_sequence,\n",
        "    optimal_parameters,\n",
        "    model_func,\n",
        "    train_images=train_images,\n",
        "    train_labels=train_labels,\n",
        "    test_images=test_images,\n",
        "    test_labels=test_labels,\n",
        "    verbose=0,\n",
        "    summary=0,\n",
        "):\n",
        "\n",
        "    best_accuracy = 0.0\n",
        "    best_parameters = {}\n",
        "\n",
        "    for param in study_sequence:\n",
        "\n",
        "        print(f\"{GRAY_BACK}{\"=\" * 50}{RESET}\")\n",
        "        print(f\"Пошук оптимального значення параметра: {YELLOW}{param} {RESET}\")\n",
        "        print(f\"{GRAY_BACK}{\"=\" * 50}{RESET}\")\n",
        "\n",
        "        param_values = parameters[param]\n",
        "        best_value = optimal_parameters[param]\n",
        "\n",
        "        for value in param_values:\n",
        "            optimal_parameters[param] = value\n",
        "\n",
        "            print(\"-\" * 50)\n",
        "            print(f\"Тестується значення: {YELLOW}{param} = {value}{RESET}\")\n",
        "            print(\"-\" * 50)\n",
        "\n",
        "            history, test_acc = train_model(\n",
        "                train_images,\n",
        "                train_labels,\n",
        "                test_images,\n",
        "                test_labels,\n",
        "                model_func,\n",
        "                verbose=verbose,\n",
        "                summary=summary,\n",
        "                **optimal_parameters,\n",
        "            )\n",
        "\n",
        "            if test_acc > best_accuracy:\n",
        "                best_accuracy = test_acc\n",
        "                best_parameters = copy.deepcopy(optimal_parameters)\n",
        "                best_value = value\n",
        "\n",
        "            # Plotting training history\n",
        "            plt_history(history, optimal_parameters)\n",
        "\n",
        "        # Update optimal parameter for the current parameter\n",
        "        optimal_parameters[param] = best_value\n",
        "\n",
        "        print(\n",
        "            f\"{LIGHTBLUE} Оптимальне значення параметра {YELLOW}{param} = {best_value}\"\n",
        "        )\n",
        "        print(f\"{LIGHTBLUE}   точність на тестових даних: {YELLOW}{best_accuracy}{RESET}\", end='\\n\\n')\n",
        "\n",
        "    return best_parameters, best_accuracy"
      ]
    },
    {
      "cell_type": "markdown",
      "metadata": {},
      "source": [
        "     Параметри для тренування моделей "
      ]
    },
    {
      "cell_type": "code",
      "execution_count": null,
      "metadata": {},
      "outputs": [],
      "source": [
        "# Оптимальні параметри.\n",
        "# Спочатку \"зі стелі\", під час навчання змінюються на справді оптимальні.\n",
        "optimal_parameters = {\n",
        "    \"epochs\": 10,\n",
        "    \"batch_size\": 16,\n",
        "    \"dropout_rate\": 0.2,\n",
        "    \"loss_function\": \"sparse_categorical_crossentropy\",\n",
        "    \"optimizer\": \"adam\",\n",
        "    \"hidden_units\": 32,\n",
        "    \"activation\": \"relu\",\n",
        "    \"metrics\": [\"accuracy\"],\n",
        "    \"callbacks\": [\"ReduceLROnPlateau\", ],\n",
        "    \"factor_lr\": 0.2, \n",
        "    \"patience\": 5,\n",
        "}\n",
        "\n",
        "# Списки параметрів, що мають бути досліджені\n",
        "parameters = {\n",
        "    \"callbacks\": [\n",
        "        [\"\"],\n",
        "        [\"ReduceLROnPlateau\"],\n",
        "        [\"EarlyStopping\"],\n",
        "        [\"ReduceLROnPlateau\", \"EarlyStopping\"],\n",
        "    ],\n",
        "    \"factor_lr\": [0.2, 0.4, 0.6, 0.8], \n",
        "    \"patience\": [3, 4, 5, 6, 7, 8],\n",
        "    \"epochs\": [5, 10, 15, 20],\n",
        "    # \"epochs\": [10, 20, 50, 100],\n",
        "    \"batch_size\": [8, 16, 32, 64],\n",
        "    \"dropout_rate\": [0.0, 0.1, 0.2, 0.3],\n",
        "    \"loss_function\": [\n",
        "        \"sparse_categorical_crossentropy\",\n",
        "    ],\n",
        "    \"optimizer\": [\"adam\", \"sgd\", \"rmsprop\"],\n",
        "    \"hidden_units\": [16, 32, 64, 128],\n",
        "    \"activation\": [\"relu\", \"sigmoid\"],\n",
        "    \"metrics\": [\n",
        "        \"accuracy\",\n",
        "    ],\n",
        "}"
      ]
    },
    {
      "cell_type": "markdown",
      "metadata": {},
      "source": [
        "***\n",
        "### **Модель для тренування 1** \n",
        "***\n",
        "     Шари: \n",
        "1. **Conv2D** (32, (3, 3), input_shape=(28, 28, 1))\n",
        "\n",
        "2. **MaxPooling2D** ((2, 2))\n",
        "\n",
        "3. **Conv2D** (64, (3, 3))\n",
        "\n",
        "4. **MaxPooling2D** ((2, 2))\n",
        "\n",
        "5. **Flatten**\n",
        "\n",
        "6. **Dense** \n",
        "\n",
        "7. **Dense** (10)"
      ]
    },
    {
      "cell_type": "code",
      "execution_count": null,
      "metadata": {},
      "outputs": [],
      "source": [
        "def model_CNN_1(hidden_units, activation, dropout_rate):\n",
        "\n",
        "    model = models.Sequential(\n",
        "        [\n",
        "            layers.Conv2D(32, (3, 3), activation=activation, input_shape=(28, 28, 1)),\n",
        "            layers.MaxPooling2D((2, 2)),\n",
        "            layers.Conv2D(64, (3, 3), activation=activation),\n",
        "            layers.MaxPooling2D((2, 2)),\n",
        "            layers.Flatten(),\n",
        "            layers.Dense(hidden_units, activation=activation),\n",
        "            layers.Dense(10, activation=\"softmax\"),\n",
        "        ]\n",
        "    )\n",
        "    return model"
      ]
    },
    {
      "cell_type": "markdown",
      "metadata": {},
      "source": [
        "     Параметри, для навчання моделі 1 \n",
        "###### study_sequence - Послідовність дослідження"
      ]
    },
    {
      "cell_type": "code",
      "execution_count": null,
      "metadata": {},
      "outputs": [],
      "source": [
        "study_sequence = [\n",
        "    \"callbacks\",\n",
        "    \"optimizer\",\n",
        "    \"activation\",\n",
        "    \"hidden_units\",\n",
        "    # \"dropout_rate\",\n",
        "    \"batch_size\",\n",
        "    \"epochs\",\n",
        "    \"callbacks\",\n",
        "    \"factor_lr\",\n",
        "    \"patience\",\n",
        "    # # \"loss_function\",\n",
        "    # # # \"metrics\",\n",
        "    \"optimizer\",\n",
        "    \"activation\",\n",
        "    \"hidden_units\",\n",
        "    # \"dropout_rate\",\n",
        "    \"batch_size\",\n",
        "    \"epochs\",\n",
        "    \"callbacks\",\n",
        "    \"patience\",\n",
        "    \"factor_lr\",\n",
        "]"
      ]
    },
    {
      "cell_type": "markdown",
      "metadata": {},
      "source": [
        "Пошук оптимальних параметрів для моделі  **model_CNN_1**"
      ]
    },
    {
      "cell_type": "code",
      "execution_count": null,
      "metadata": {},
      "outputs": [],
      "source": [
        "best_parameters, best_accuracy = find_optimal_parameters(\n",
        "    parameters,\n",
        "    study_sequence,\n",
        "    optimal_parameters,\n",
        "    model_func=model_CNN_1,\n",
        "    # summary=1,\n",
        ")"
      ]
    },
    {
      "cell_type": "code",
      "execution_count": null,
      "metadata": {},
      "outputs": [],
      "source": [
        "print_parameters(best_parameters, \"Оптимальні параметри для model_CNN_1\")\n",
        "print(f\" Точність:        {YELLOW}{best_accuracy}\")"
      ]
    },
    {
      "cell_type": "markdown",
      "metadata": {},
      "source": [
        "<div class=\"alert alert-block alert-info\">\n",
        "<b>Висновки model_CN_1:</b> \n",
        "<p>Найпростіша згорткова нейромережа видає крашу точність, порівняно з мережею без згорток<br>Точність моделі склала <b>89.68%</b>)</p>\n",
        "</div>"
      ]
    },
    {
      "cell_type": "markdown",
      "metadata": {},
      "source": [
        "***\n",
        "### **Модель для тренування 2** \n",
        "***\n",
        "_Ускладнимо модель, додавши два додаткових шари: **Conv2D** та **Dropout**_"
      ]
    },
    {
      "cell_type": "code",
      "execution_count": null,
      "metadata": {},
      "outputs": [],
      "source": [
        "def model_CNN_2(hidden_units, activation, dropout_rate):\n",
        "\n",
        "    model = models.Sequential(\n",
        "        [\n",
        "            layers.Conv2D(32, (3, 3), activation=activation, input_shape=(28, 28, 1)),\n",
        "            layers.MaxPooling2D((2, 2)),\n",
        "            layers.Conv2D(64, (3, 3), activation=activation),\n",
        "            layers.MaxPooling2D((2, 2)),\n",
        "            layers.Conv2D(64, (3, 3), activation=activation),  # added in model_2\n",
        "            layers.Flatten(),\n",
        "            layers.Dropout(dropout_rate),  # added in model_2\n",
        "            layers.Dense(hidden_units, activation=activation),\n",
        "            layers.Dense(10, activation=\"softmax\"),\n",
        "        ]\n",
        "    )\n",
        "    return model"
      ]
    },
    {
      "cell_type": "markdown",
      "metadata": {},
      "source": [
        "     Оптимальні параметри, що було визначено під час дослідження "
      ]
    },
    {
      "cell_type": "code",
      "execution_count": null,
      "metadata": {},
      "outputs": [],
      "source": [
        "print_parameters(best_parameters, \"Оптимальні параметри для model_CNN_1\")"
      ]
    },
    {
      "cell_type": "code",
      "execution_count": null,
      "metadata": {},
      "outputs": [],
      "source": [
        "study_sequence = [\n",
        "    \"callbacks\",\n",
        "    \"optimizer\",\n",
        "    \"activation\",\n",
        "    \"hidden_units\",\n",
        "    \"dropout_rate\",\n",
        "    \"batch_size\",\n",
        "    \"epochs\",\n",
        "    \"callbacks\",\n",
        "    \"factor_lr\", \n",
        "    \"patience\",\n",
        "    # # \"loss_function\",\n",
        "    # # # \"metrics\",\n",
        "]"
      ]
    },
    {
      "cell_type": "code",
      "execution_count": null,
      "metadata": {},
      "outputs": [],
      "source": [
        "best_parameters, best_accuracy = find_optimal_parameters(\n",
        "    parameters,\n",
        "    study_sequence,\n",
        "    optimal_parameters,\n",
        "    model_func=model_CNN_2,\n",
        ")"
      ]
    },
    {
      "cell_type": "code",
      "execution_count": null,
      "metadata": {},
      "outputs": [],
      "source": [
        "print_parameters(best_parameters, \"Оптимальні параметри для model_2\")\n",
        "print(f\" Точність:        {YELLOW}{best_accuracy}\")"
      ]
    },
    {
      "cell_type": "markdown",
      "metadata": {},
      "source": [
        "<div class=\"alert alert-block alert-info\">\n",
        "<b>Висновки model_2:</b> \n",
        "<p>Для ускладненої моделі спостерігається <b>покращення точності</b><br>\n",
        "<b>Точність на тестових даних</b> змінилася з <b>89.68%</b> для model_CNN_1 до <b>90.27%</b> для model_CNN_2</p>\n",
        "</div>"
      ]
    },
    {
      "cell_type": "markdown",
      "metadata": {},
      "source": [
        "***\n",
        "### **Фінальне тестування** \n",
        "***\n",
        "_Наостанок проведемо дослідження поведінки моделі model_CNN_2 на різних кількостях епох_"
      ]
    },
    {
      "cell_type": "markdown",
      "metadata": {},
      "source": [
        "     Оптимальні параметри, що було визначено під час попереднього дослідження "
      ]
    },
    {
      "cell_type": "code",
      "execution_count": null,
      "metadata": {},
      "outputs": [],
      "source": [
        "print_parameters(best_parameters, \"Оптимальні параметри за результатами попереднього дослідження\")"
      ]
    },
    {
      "cell_type": "code",
      "execution_count": null,
      "metadata": {},
      "outputs": [],
      "source": [
        "epochs = best_parameters[\"epochs\"]\n",
        "batch_size = best_parameters[\"batch_size\"]\n",
        "dropout_rate = best_parameters[\"dropout_rate\"]\n",
        "loss_function = best_parameters[\"loss_function\"]\n",
        "optimizer = best_parameters[\"optimizer\"]\n",
        "hidden_units = best_parameters[\"hidden_units\"]\n",
        "activation = best_parameters[\"activation\"]\n",
        "metrics = [\"accuracy\"]\n",
        "callbacks = [\"callbacs\"]\n",
        "factor_lr = [\"factor_lr\"]\n",
        "patience = [\"patience\"]"
      ]
    },
    {
      "cell_type": "markdown",
      "metadata": {},
      "source": [
        "     Параметри для фінального дослідження - досліджуємо тільки вплив кількості епох "
      ]
    },
    {
      "cell_type": "code",
      "execution_count": null,
      "metadata": {},
      "outputs": [],
      "source": [
        "parameters = {\n",
        "    \"epochs\": [5, 10, 15, 20, 30, 50, 100],\n",
        "}\n",
        "\n",
        "study_sequence = [\n",
        "    \"epochs\",\n",
        "]"
      ]
    },
    {
      "cell_type": "code",
      "execution_count": null,
      "metadata": {},
      "outputs": [],
      "source": [
        "best_parameters, best_accuracy = find_optimal_parameters(\n",
        "    parameters,\n",
        "    study_sequence,\n",
        "    optimal_parameters,\n",
        "    model_func=model_CNN_2,\n",
        "    summary=1,\n",
        ")"
      ]
    },
    {
      "cell_type": "code",
      "execution_count": null,
      "metadata": {},
      "outputs": [],
      "source": [
        "print_parameters(best_parameters, \"Фінальні оптимальні параметри для моделі model_CNN_2\")"
      ]
    },
    {
      "cell_type": "markdown",
      "metadata": {},
      "source": [
        "```\n",
        "model_CNN_2 = models.Sequential(\n",
        "    [\n",
        "        layers.Conv2D(32, (3, 3), activation=activation, input_shape=(28, 28, 1)),\n",
        "        layers.MaxPooling2D((2, 2)),\n",
        "        layers.Conv2D(64, (3, 3), activation=activation),\n",
        "        layers.MaxPooling2D((2, 2)),\n",
        "        layers.Conv2D(64, (3, 3), activation=activation),\n",
        "        layers.Flatten(),\n",
        "        layers.Dropout(dropout_rate),\n",
        "        layers.Dense(hidden_units, activation=activation),\n",
        "        layers.Dense(10, activation=\"softmax\"),\n",
        "    ]\n",
        ")\n",
        "```"
      ]
    },
    {
      "cell_type": "markdown",
      "metadata": {},
      "source": [
        "<div class=\"alert alert-block alert-info\">\n",
        "<b>Висновки:</b> \n",
        "<p>За результатами роботи можемо стверджувати, що згорткові нейромережі дозволяють досягати суттєво більшої точності навіть на дуже простих моделях<br>Максимальна точність на тестових даних сягнула <b>90.72%</p>\n",
        "</div>"
      ]
    }
  ],
  "metadata": {
    "anaconda-cloud": {},
    "colab": {
      "provenance": []
    },
    "kernelspec": {
      "display_name": "ds-rEpFRPgy-py3.12",
      "language": "python",
      "name": "python3"
    },
    "language_info": {
      "codemirror_mode": {
        "name": "ipython",
        "version": 3
      },
      "file_extension": ".py",
      "mimetype": "text/x-python",
      "name": "python",
      "nbconvert_exporter": "python",
      "pygments_lexer": "ipython3",
      "version": "3.12.2"
    }
  },
  "nbformat": 4,
  "nbformat_minor": 0
}
