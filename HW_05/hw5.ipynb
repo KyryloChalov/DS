{
  "cells": [
    {
      "cell_type": "markdown",
      "metadata": {},
      "source": [
        "# Модуль 5. **Інші алгоритми навчання з учителем**"
      ]
    },
    {
      "cell_type": "code",
      "execution_count": 1,
      "metadata": {},
      "outputs": [],
      "source": [
        "import zipfile\n",
        "import os\n",
        "import pandas as pd\n",
        "from sklearn.model_selection import train_test_split\n",
        "from sklearn.preprocessing import StandardScaler\n",
        "import numpy as np"
      ]
    },
    {
      "cell_type": "code",
      "execution_count": 2,
      "metadata": {},
      "outputs": [
        {
          "name": "stdout",
          "output_type": "stream",
          "text": [
            "unzipping done\n",
            " ['idle', 'running', 'stairs', 'walking']\n"
          ]
        }
      ],
      "source": [
        "zip_file_path = \"homework.zip\"\n",
        "\n",
        "with zipfile.ZipFile(zip_file_path, \"r\") as zip_ref:\n",
        "    zip_ref.extractall()\n",
        "\n",
        "data_folder = \"data\"\n",
        "\n",
        "subdirectories = [\n",
        "    subdir\n",
        "    for subdir in os.listdir(data_folder)\n",
        "    if os.path.isdir(os.path.join(data_folder, subdir))\n",
        "]\n",
        "print('unzipping done\\n', subdirectories)"
      ]
    },
    {
      "cell_type": "code",
      "execution_count": 3,
      "metadata": {},
      "outputs": [
        {
          "name": "stdout",
          "output_type": "stream",
          "text": [
            "Dataframe for idle:\n",
            "   accelerometer_X  accelerometer_Y  accelerometer_Z\n",
            "0         1.000776         4.616021         8.576031\n",
            "1         0.718261         4.209007         8.446744\n",
            "2        -0.909797        -0.282516         9.203311\n",
            "3         5.099650         0.148441         8.418014\n",
            "4         1.762132        -0.162806         9.251195 \n",
            "\n",
            "Dataframe for running:\n",
            "   accelerometer_X  accelerometer_Y  accelerometer_Z\n",
            "0        -4.151545         1.781286         2.173935\n",
            "1         2.020706         3.706224         9.921572\n",
            "2         1.762132         4.242526         8.078037\n",
            "3        -0.445322        11.080365         6.756438\n",
            "4         5.573702        13.436260        15.054740 \n",
            "\n",
            "Dataframe for stairs:\n",
            "   accelerometer_X  accelerometer_Y  accelerometer_Z\n",
            "0         6.727707         2.973599         3.936068\n",
            "1         7.891289         0.440533        -3.342306\n",
            "2         6.301539        -1.154005         0.067038\n",
            "3         4.534618        -5.755661        -1.369483\n",
            "4         4.563349        -3.730166        -0.028730 \n",
            "\n",
            "Dataframe for walking:\n",
            "   accelerometer_X  accelerometer_Y  accelerometer_Z\n",
            "0         2.322376         3.643975        11.827356\n",
            "1         1.781286         4.668694         6.148310\n",
            "2         7.963115        -4.113238         1.359907\n",
            "3         1.996764        -1.398214         1.163582\n",
            "4         5.185841       -12.143391         4.687847 \n",
            "\n"
          ]
        }
      ],
      "source": [
        "dataframes = {}\n",
        "\n",
        "for subdir in subdirectories:\n",
        "    subdir_path = os.path.join(data_folder, subdir)\n",
        "    files = os.listdir(subdir_path)\n",
        "\n",
        "    df = pd.DataFrame()\n",
        "\n",
        "    for file in files:\n",
        "        if file.endswith(\".csv\"):\n",
        "            file_path = os.path.join(subdir_path, file)\n",
        "            data = pd.read_csv(file_path)\n",
        "            df = pd.concat([df, data], ignore_index=True)\n",
        "\n",
        "    dataframes[subdir] = df\n",
        "\n",
        "for subdir, df in dataframes.items():\n",
        "    print(f\"Dataframe for {subdir}:\")\n",
        "    print(df.head(), '\\n')"
      ]
    },
    {
      "cell_type": "code",
      "execution_count": 4,
      "metadata": {},
      "outputs": [
        {
          "name": "stdout",
          "output_type": "stream",
          "text": [
            "[1]\n"
          ]
        }
      ],
      "source": [
        "from sklearn import svm\n",
        "\n",
        "X = [[0, 0], [1, 1]]\n",
        "y = [0, 1]\n",
        "\n",
        "clf = svm.SVC()\n",
        "clf.fit(X, y)\n",
        "\n",
        "print(clf.predict([[2.0, 2.0]]))"
      ]
    }
  ],
  "metadata": {
    "anaconda-cloud": {},
    "colab": {
      "provenance": []
    },
    "kernelspec": {
      "display_name": "ds-rEpFRPgy-py3.12",
      "language": "python",
      "name": "python3"
    },
    "language_info": {
      "codemirror_mode": {
        "name": "ipython",
        "version": 3
      },
      "file_extension": ".py",
      "mimetype": "text/x-python",
      "name": "python",
      "nbconvert_exporter": "python",
      "pygments_lexer": "ipython3",
      "version": "3.12.2"
    }
  },
  "nbformat": 4,
  "nbformat_minor": 0
}
