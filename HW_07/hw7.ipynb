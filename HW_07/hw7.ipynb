{
  "cells": [
    {
      "cell_type": "markdown",
      "metadata": {},
      "source": [
        "# Модуль 7. **Рекомендаційні системи**"
      ]
    },
    {
      "cell_type": "code",
      "execution_count": 2112,
      "metadata": {},
      "outputs": [],
      "source": [
        "import pandas as pd\n",
        "\n",
        "import numpy as np\n",
        "\n",
        "import matplotlib.pyplot as plt\n",
        "import seaborn as sns\n",
        "\n",
        "from sklearn.cluster import KMeans\n",
        "from sklearn.decomposition import PCA\n",
        "\n",
        "import zipfile\n",
        "\n",
        "cmap = \"tab10\""
      ]
    },
    {
      "cell_type": "markdown",
      "metadata": {},
      "source": [
        "### Завдання\n",
        "\n",
        "###### Візьміть датасет movielens https://surprise.readthedocs.io/en/stable/dataset.html. \n",
        "######  і побудуйте модель матричної факторизації. У даній бібліотеці він має назву SVD. Підберіть найкращі параметри за допомогою крос-валідації, також поекспериментуйте з іншими алгоритмами розрахунків (SVD++, NMF) https://surprise.readthedocs.io/en/stable/prediction_algorithms_package.html і оберіть той, який буде оптимальним."
      ]
    },
    {
      "cell_type": "markdown",
      "metadata": {},
      "source": [
        "    Розпаковка архіву"
      ]
    },
    {
      "cell_type": "code",
      "execution_count": 2113,
      "metadata": {},
      "outputs": [],
      "source": [
        "zip_file_path = \"data.zip\"\n",
        "with zipfile.ZipFile(zip_file_path, \"r\") as zip_ref:\n",
        "    zip_ref.extractall()"
      ]
    },
    {
      "cell_type": "markdown",
      "metadata": {},
      "source": [
        "    Завантаження даних"
      ]
    },
    {
      "cell_type": "code",
      "execution_count": 2114,
      "metadata": {},
      "outputs": [],
      "source": [
        "df_2d = pd.read_csv(\"data/data_2d.csv\", header=None, names=['class', 'feature_1', 'feature_2'])\n",
        "df_mnist = pd.read_csv(\"data/mnist.csv\", header=None)"
      ]
    },
    {
      "cell_type": "markdown",
      "metadata": {},
      "source": [
        "    Аналіз даних df_2d"
      ]
    },
    {
      "cell_type": "code",
      "execution_count": 2115,
      "metadata": {},
      "outputs": [
        {
          "data": {
            "text/html": [
              "<div>\n",
              "<style scoped>\n",
              "    .dataframe tbody tr th:only-of-type {\n",
              "        vertical-align: middle;\n",
              "    }\n",
              "\n",
              "    .dataframe tbody tr th {\n",
              "        vertical-align: top;\n",
              "    }\n",
              "\n",
              "    .dataframe thead th {\n",
              "        text-align: right;\n",
              "    }\n",
              "</style>\n",
              "<table border=\"1\" class=\"dataframe\">\n",
              "  <thead>\n",
              "    <tr style=\"text-align: right;\">\n",
              "      <th></th>\n",
              "      <th>class</th>\n",
              "      <th>feature_1</th>\n",
              "      <th>feature_2</th>\n",
              "    </tr>\n",
              "  </thead>\n",
              "  <tbody>\n",
              "    <tr>\n",
              "      <th>0</th>\n",
              "      <td>0.0</td>\n",
              "      <td>-0.768716</td>\n",
              "      <td>0.460860</td>\n",
              "    </tr>\n",
              "    <tr>\n",
              "      <th>1</th>\n",
              "      <td>0.0</td>\n",
              "      <td>2.687848</td>\n",
              "      <td>2.366961</td>\n",
              "    </tr>\n",
              "    <tr>\n",
              "      <th>2</th>\n",
              "      <td>0.0</td>\n",
              "      <td>-0.201379</td>\n",
              "      <td>0.470430</td>\n",
              "    </tr>\n",
              "    <tr>\n",
              "      <th>3</th>\n",
              "      <td>0.0</td>\n",
              "      <td>0.608496</td>\n",
              "      <td>1.225400</td>\n",
              "    </tr>\n",
              "    <tr>\n",
              "      <th>4</th>\n",
              "      <td>0.0</td>\n",
              "      <td>-0.082282</td>\n",
              "      <td>1.137218</td>\n",
              "    </tr>\n",
              "  </tbody>\n",
              "</table>\n",
              "</div>"
            ],
            "text/plain": [
              "   class  feature_1  feature_2\n",
              "0    0.0  -0.768716   0.460860\n",
              "1    0.0   2.687848   2.366961\n",
              "2    0.0  -0.201379   0.470430\n",
              "3    0.0   0.608496   1.225400\n",
              "4    0.0  -0.082282   1.137218"
            ]
          },
          "execution_count": 2115,
          "metadata": {},
          "output_type": "execute_result"
        }
      ],
      "source": [
        "df_2d.head()"
      ]
    },
    {
      "cell_type": "code",
      "execution_count": 2116,
      "metadata": {},
      "outputs": [
        {
          "name": "stdout",
          "output_type": "stream",
          "text": [
            "<class 'pandas.core.frame.DataFrame'>\n",
            "RangeIndex: 200 entries, 0 to 199\n",
            "Data columns (total 3 columns):\n",
            " #   Column     Non-Null Count  Dtype  \n",
            "---  ------     --------------  -----  \n",
            " 0   class      200 non-null    float64\n",
            " 1   feature_1  200 non-null    float64\n",
            " 2   feature_2  200 non-null    float64\n",
            "dtypes: float64(3)\n",
            "memory usage: 4.8 KB\n"
          ]
        }
      ],
      "source": [
        "df_2d.info()"
      ]
    },
    {
      "cell_type": "markdown",
      "metadata": {},
      "source": [
        "### Додаткове завдання з зірочкою\n",
        "\n",
        "###### Для більшого заглиблення в роботу алгоритму, пропонуємо реалізувати алгоритм колабораційної фільтрації з нуля. Для цього ми можемо скористатись нашою домашньою роботою з 3-ого модуля. Якщо ми модифікуємо функцію втрат та розрахунок градієнтів, то зможемо побудувати алгоритм матричної факторизації."
      ]
    }
  ],
  "metadata": {
    "anaconda-cloud": {},
    "colab": {
      "provenance": []
    },
    "kernelspec": {
      "display_name": "ds-rEpFRPgy-py3.12",
      "language": "python",
      "name": "python3"
    },
    "language_info": {
      "codemirror_mode": {
        "name": "ipython",
        "version": 3
      },
      "file_extension": ".py",
      "mimetype": "text/x-python",
      "name": "python",
      "nbconvert_exporter": "python",
      "pygments_lexer": "ipython3",
      "version": "3.12.2"
    }
  },
  "nbformat": 4,
  "nbformat_minor": 0
}
