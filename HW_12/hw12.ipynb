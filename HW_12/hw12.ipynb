{
  "cells": [
    {
      "cell_type": "markdown",
      "metadata": {},
      "source": [
        "# Модуль 12. **Основи NLP** "
      ]
    },
    {
      "cell_type": "markdown",
      "metadata": {},
      "source": [
        "### Завдання\n",
        "\n",
        "Зробіть summary нижчевказаного тексту використовуючи бібліотеки для NLP: nltk та SpaCy"
      ]
    },
    {
      "cell_type": "code",
      "execution_count": 26,
      "metadata": {},
      "outputs": [
        {
          "name": "stdout",
          "output_type": "stream",
          "text": [
            "Requirement already satisfied: pip in c:\\users\\ks797\\appdata\\local\\pypoetry\\cache\\virtualenvs\\ds-repfrpgy-py3.12\\lib\\site-packages (24.1.1)\n",
            "Requirement already satisfied: setuptools in c:\\users\\ks797\\appdata\\local\\pypoetry\\cache\\virtualenvs\\ds-repfrpgy-py3.12\\lib\\site-packages (70.2.0)\n",
            "Requirement already satisfied: wheel in c:\\users\\ks797\\appdata\\local\\pypoetry\\cache\\virtualenvs\\ds-repfrpgy-py3.12\\lib\\site-packages (0.43.0)\n",
            "Requirement already satisfied: spacy in c:\\users\\ks797\\appdata\\local\\pypoetry\\cache\\virtualenvs\\ds-repfrpgy-py3.12\\lib\\site-packages (3.7.5)\n",
            "Requirement already satisfied: spacy-legacy<3.1.0,>=3.0.11 in c:\\users\\ks797\\appdata\\local\\pypoetry\\cache\\virtualenvs\\ds-repfrpgy-py3.12\\lib\\site-packages (from spacy) (3.0.12)\n",
            "Requirement already satisfied: spacy-loggers<2.0.0,>=1.0.0 in c:\\users\\ks797\\appdata\\local\\pypoetry\\cache\\virtualenvs\\ds-repfrpgy-py3.12\\lib\\site-packages (from spacy) (1.0.5)\n",
            "Requirement already satisfied: murmurhash<1.1.0,>=0.28.0 in c:\\users\\ks797\\appdata\\local\\pypoetry\\cache\\virtualenvs\\ds-repfrpgy-py3.12\\lib\\site-packages (from spacy) (1.0.10)\n",
            "Requirement already satisfied: cymem<2.1.0,>=2.0.2 in c:\\users\\ks797\\appdata\\local\\pypoetry\\cache\\virtualenvs\\ds-repfrpgy-py3.12\\lib\\site-packages (from spacy) (2.0.8)\n",
            "Requirement already satisfied: preshed<3.1.0,>=3.0.2 in c:\\users\\ks797\\appdata\\local\\pypoetry\\cache\\virtualenvs\\ds-repfrpgy-py3.12\\lib\\site-packages (from spacy) (3.0.9)\n",
            "Requirement already satisfied: thinc<8.3.0,>=8.2.2 in c:\\users\\ks797\\appdata\\local\\pypoetry\\cache\\virtualenvs\\ds-repfrpgy-py3.12\\lib\\site-packages (from spacy) (8.2.5)\n",
            "Requirement already satisfied: wasabi<1.2.0,>=0.9.1 in c:\\users\\ks797\\appdata\\local\\pypoetry\\cache\\virtualenvs\\ds-repfrpgy-py3.12\\lib\\site-packages (from spacy) (1.1.3)\n",
            "Requirement already satisfied: srsly<3.0.0,>=2.4.3 in c:\\users\\ks797\\appdata\\local\\pypoetry\\cache\\virtualenvs\\ds-repfrpgy-py3.12\\lib\\site-packages (from spacy) (2.4.8)\n",
            "Requirement already satisfied: catalogue<2.1.0,>=2.0.6 in c:\\users\\ks797\\appdata\\local\\pypoetry\\cache\\virtualenvs\\ds-repfrpgy-py3.12\\lib\\site-packages (from spacy) (2.0.10)\n",
            "Requirement already satisfied: weasel<0.5.0,>=0.1.0 in c:\\users\\ks797\\appdata\\local\\pypoetry\\cache\\virtualenvs\\ds-repfrpgy-py3.12\\lib\\site-packages (from spacy) (0.4.1)\n",
            "Requirement already satisfied: typer<1.0.0,>=0.3.0 in c:\\users\\ks797\\appdata\\local\\pypoetry\\cache\\virtualenvs\\ds-repfrpgy-py3.12\\lib\\site-packages (from spacy) (0.12.3)\n",
            "Requirement already satisfied: tqdm<5.0.0,>=4.38.0 in c:\\users\\ks797\\appdata\\local\\pypoetry\\cache\\virtualenvs\\ds-repfrpgy-py3.12\\lib\\site-packages (from spacy) (4.66.4)\n",
            "Requirement already satisfied: requests<3.0.0,>=2.13.0 in c:\\users\\ks797\\appdata\\local\\pypoetry\\cache\\virtualenvs\\ds-repfrpgy-py3.12\\lib\\site-packages (from spacy) (2.31.0)\n",
            "Requirement already satisfied: pydantic!=1.8,!=1.8.1,<3.0.0,>=1.7.4 in c:\\users\\ks797\\appdata\\local\\pypoetry\\cache\\virtualenvs\\ds-repfrpgy-py3.12\\lib\\site-packages (from spacy) (2.8.0)\n",
            "Requirement already satisfied: jinja2 in c:\\users\\ks797\\appdata\\local\\pypoetry\\cache\\virtualenvs\\ds-repfrpgy-py3.12\\lib\\site-packages (from spacy) (3.1.3)\n",
            "Requirement already satisfied: setuptools in c:\\users\\ks797\\appdata\\local\\pypoetry\\cache\\virtualenvs\\ds-repfrpgy-py3.12\\lib\\site-packages (from spacy) (70.2.0)\n",
            "Requirement already satisfied: packaging>=20.0 in c:\\users\\ks797\\appdata\\local\\pypoetry\\cache\\virtualenvs\\ds-repfrpgy-py3.12\\lib\\site-packages (from spacy) (24.0)\n",
            "Requirement already satisfied: langcodes<4.0.0,>=3.2.0 in c:\\users\\ks797\\appdata\\local\\pypoetry\\cache\\virtualenvs\\ds-repfrpgy-py3.12\\lib\\site-packages (from spacy) (3.4.0)\n",
            "Requirement already satisfied: numpy>=1.19.0 in c:\\users\\ks797\\appdata\\local\\pypoetry\\cache\\virtualenvs\\ds-repfrpgy-py3.12\\lib\\site-packages (from spacy) (1.26.4)\n",
            "Requirement already satisfied: language-data>=1.2 in c:\\users\\ks797\\appdata\\local\\pypoetry\\cache\\virtualenvs\\ds-repfrpgy-py3.12\\lib\\site-packages (from langcodes<4.0.0,>=3.2.0->spacy) (1.2.0)\n",
            "Requirement already satisfied: annotated-types>=0.4.0 in c:\\users\\ks797\\appdata\\local\\pypoetry\\cache\\virtualenvs\\ds-repfrpgy-py3.12\\lib\\site-packages (from pydantic!=1.8,!=1.8.1,<3.0.0,>=1.7.4->spacy) (0.7.0)\n",
            "Requirement already satisfied: pydantic-core==2.20.0 in c:\\users\\ks797\\appdata\\local\\pypoetry\\cache\\virtualenvs\\ds-repfrpgy-py3.12\\lib\\site-packages (from pydantic!=1.8,!=1.8.1,<3.0.0,>=1.7.4->spacy) (2.20.0)\n",
            "Requirement already satisfied: typing-extensions>=4.6.1 in c:\\users\\ks797\\appdata\\local\\pypoetry\\cache\\virtualenvs\\ds-repfrpgy-py3.12\\lib\\site-packages (from pydantic!=1.8,!=1.8.1,<3.0.0,>=1.7.4->spacy) (4.11.0)\n",
            "Requirement already satisfied: charset-normalizer<4,>=2 in c:\\users\\ks797\\appdata\\local\\pypoetry\\cache\\virtualenvs\\ds-repfrpgy-py3.12\\lib\\site-packages (from requests<3.0.0,>=2.13.0->spacy) (3.3.2)\n",
            "Requirement already satisfied: idna<4,>=2.5 in c:\\users\\ks797\\appdata\\local\\pypoetry\\cache\\virtualenvs\\ds-repfrpgy-py3.12\\lib\\site-packages (from requests<3.0.0,>=2.13.0->spacy) (3.7)\n",
            "Requirement already satisfied: urllib3<3,>=1.21.1 in c:\\users\\ks797\\appdata\\local\\pypoetry\\cache\\virtualenvs\\ds-repfrpgy-py3.12\\lib\\site-packages (from requests<3.0.0,>=2.13.0->spacy) (2.2.1)\n",
            "Requirement already satisfied: certifi>=2017.4.17 in c:\\users\\ks797\\appdata\\local\\pypoetry\\cache\\virtualenvs\\ds-repfrpgy-py3.12\\lib\\site-packages (from requests<3.0.0,>=2.13.0->spacy) (2024.2.2)\n",
            "Requirement already satisfied: blis<0.8.0,>=0.7.8 in c:\\users\\ks797\\appdata\\local\\pypoetry\\cache\\virtualenvs\\ds-repfrpgy-py3.12\\lib\\site-packages (from thinc<8.3.0,>=8.2.2->spacy) (0.7.11)\n",
            "Requirement already satisfied: confection<1.0.0,>=0.0.1 in c:\\users\\ks797\\appdata\\local\\pypoetry\\cache\\virtualenvs\\ds-repfrpgy-py3.12\\lib\\site-packages (from thinc<8.3.0,>=8.2.2->spacy) (0.1.5)\n",
            "Requirement already satisfied: colorama in c:\\users\\ks797\\appdata\\local\\pypoetry\\cache\\virtualenvs\\ds-repfrpgy-py3.12\\lib\\site-packages (from tqdm<5.0.0,>=4.38.0->spacy) (0.4.6)\n",
            "Requirement already satisfied: click>=8.0.0 in c:\\users\\ks797\\appdata\\local\\pypoetry\\cache\\virtualenvs\\ds-repfrpgy-py3.12\\lib\\site-packages (from typer<1.0.0,>=0.3.0->spacy) (8.1.7)\n",
            "Requirement already satisfied: shellingham>=1.3.0 in c:\\users\\ks797\\appdata\\local\\pypoetry\\cache\\virtualenvs\\ds-repfrpgy-py3.12\\lib\\site-packages (from typer<1.0.0,>=0.3.0->spacy) (1.5.4)\n",
            "Requirement already satisfied: rich>=10.11.0 in c:\\users\\ks797\\appdata\\local\\pypoetry\\cache\\virtualenvs\\ds-repfrpgy-py3.12\\lib\\site-packages (from typer<1.0.0,>=0.3.0->spacy) (13.7.1)\n",
            "Requirement already satisfied: cloudpathlib<1.0.0,>=0.7.0 in c:\\users\\ks797\\appdata\\local\\pypoetry\\cache\\virtualenvs\\ds-repfrpgy-py3.12\\lib\\site-packages (from weasel<0.5.0,>=0.1.0->spacy) (0.18.1)\n",
            "Requirement already satisfied: smart-open<8.0.0,>=5.2.1 in c:\\users\\ks797\\appdata\\local\\pypoetry\\cache\\virtualenvs\\ds-repfrpgy-py3.12\\lib\\site-packages (from weasel<0.5.0,>=0.1.0->spacy) (7.0.4)\n",
            "Requirement already satisfied: MarkupSafe>=2.0 in c:\\users\\ks797\\appdata\\local\\pypoetry\\cache\\virtualenvs\\ds-repfrpgy-py3.12\\lib\\site-packages (from jinja2->spacy) (2.1.5)\n",
            "Requirement already satisfied: marisa-trie>=0.7.7 in c:\\users\\ks797\\appdata\\local\\pypoetry\\cache\\virtualenvs\\ds-repfrpgy-py3.12\\lib\\site-packages (from language-data>=1.2->langcodes<4.0.0,>=3.2.0->spacy) (1.2.0)\n",
            "Requirement already satisfied: markdown-it-py>=2.2.0 in c:\\users\\ks797\\appdata\\local\\pypoetry\\cache\\virtualenvs\\ds-repfrpgy-py3.12\\lib\\site-packages (from rich>=10.11.0->typer<1.0.0,>=0.3.0->spacy) (3.0.0)\n",
            "Requirement already satisfied: pygments<3.0.0,>=2.13.0 in c:\\users\\ks797\\appdata\\local\\pypoetry\\cache\\virtualenvs\\ds-repfrpgy-py3.12\\lib\\site-packages (from rich>=10.11.0->typer<1.0.0,>=0.3.0->spacy) (2.17.2)\n",
            "Requirement already satisfied: wrapt in c:\\users\\ks797\\appdata\\local\\pypoetry\\cache\\virtualenvs\\ds-repfrpgy-py3.12\\lib\\site-packages (from smart-open<8.0.0,>=5.2.1->weasel<0.5.0,>=0.1.0->spacy) (1.16.0)\n",
            "Requirement already satisfied: mdurl~=0.1 in c:\\users\\ks797\\appdata\\local\\pypoetry\\cache\\virtualenvs\\ds-repfrpgy-py3.12\\lib\\site-packages (from markdown-it-py>=2.2.0->rich>=10.11.0->typer<1.0.0,>=0.3.0->spacy) (0.1.2)\n"
          ]
        }
      ],
      "source": [
        "# ! python.exe -m pip install --upgrade pip\n",
        "! pip install -U pip setuptools wheel\n",
        "! pip install -U spacy"
      ]
    },
    {
      "cell_type": "code",
      "execution_count": 23,
      "metadata": {},
      "outputs": [],
      "source": [
        "import spacy\n",
        "\n",
        "import nltk\n",
        "from nltk.corpus import stopwords\n",
        "from nltk.tokenize import word_tokenize, sent_tokenize\n",
        "\n",
        "import string\n",
        "from heapq import nlargest"
      ]
    },
    {
      "cell_type": "code",
      "execution_count": 24,
      "metadata": {},
      "outputs": [
        {
          "ename": "OSError",
          "evalue": "[E050] Can't find model 'en_core_web_sm'. It doesn't seem to be a Python package or a valid path to a data directory.",
          "output_type": "error",
          "traceback": [
            "\u001b[1;31m---------------------------------------------------------------------------\u001b[0m",
            "\u001b[1;31mOSError\u001b[0m                                   Traceback (most recent call last)",
            "Cell \u001b[1;32mIn[24], line 1\u001b[0m\n\u001b[1;32m----> 1\u001b[0m nlp \u001b[38;5;241m=\u001b[39m \u001b[43mspacy\u001b[49m\u001b[38;5;241;43m.\u001b[39;49m\u001b[43mload\u001b[49m\u001b[43m(\u001b[49m\u001b[38;5;124;43m\"\u001b[39;49m\u001b[38;5;124;43men_core_web_sm\u001b[39;49m\u001b[38;5;124;43m\"\u001b[39;49m\u001b[43m)\u001b[49m\n",
            "File \u001b[1;32mc:\\Users\\ks797\\AppData\\Local\\pypoetry\\Cache\\virtualenvs\\ds-rEpFRPgy-py3.12\\Lib\\site-packages\\spacy\\__init__.py:51\u001b[0m, in \u001b[0;36mload\u001b[1;34m(name, vocab, disable, enable, exclude, config)\u001b[0m\n\u001b[0;32m     27\u001b[0m \u001b[38;5;28;01mdef\u001b[39;00m \u001b[38;5;21mload\u001b[39m(\n\u001b[0;32m     28\u001b[0m     name: Union[\u001b[38;5;28mstr\u001b[39m, Path],\n\u001b[0;32m     29\u001b[0m     \u001b[38;5;241m*\u001b[39m,\n\u001b[1;32m   (...)\u001b[0m\n\u001b[0;32m     34\u001b[0m     config: Union[Dict[\u001b[38;5;28mstr\u001b[39m, Any], Config] \u001b[38;5;241m=\u001b[39m util\u001b[38;5;241m.\u001b[39mSimpleFrozenDict(),\n\u001b[0;32m     35\u001b[0m ) \u001b[38;5;241m-\u001b[39m\u001b[38;5;241m>\u001b[39m Language:\n\u001b[0;32m     36\u001b[0m \u001b[38;5;250m    \u001b[39m\u001b[38;5;124;03m\"\"\"Load a spaCy model from an installed package or a local path.\u001b[39;00m\n\u001b[0;32m     37\u001b[0m \n\u001b[0;32m     38\u001b[0m \u001b[38;5;124;03m    name (str): Package name or model path.\u001b[39;00m\n\u001b[1;32m   (...)\u001b[0m\n\u001b[0;32m     49\u001b[0m \u001b[38;5;124;03m    RETURNS (Language): The loaded nlp object.\u001b[39;00m\n\u001b[0;32m     50\u001b[0m \u001b[38;5;124;03m    \"\"\"\u001b[39;00m\n\u001b[1;32m---> 51\u001b[0m     \u001b[38;5;28;01mreturn\u001b[39;00m \u001b[43mutil\u001b[49m\u001b[38;5;241;43m.\u001b[39;49m\u001b[43mload_model\u001b[49m\u001b[43m(\u001b[49m\n\u001b[0;32m     52\u001b[0m \u001b[43m        \u001b[49m\u001b[43mname\u001b[49m\u001b[43m,\u001b[49m\n\u001b[0;32m     53\u001b[0m \u001b[43m        \u001b[49m\u001b[43mvocab\u001b[49m\u001b[38;5;241;43m=\u001b[39;49m\u001b[43mvocab\u001b[49m\u001b[43m,\u001b[49m\n\u001b[0;32m     54\u001b[0m \u001b[43m        \u001b[49m\u001b[43mdisable\u001b[49m\u001b[38;5;241;43m=\u001b[39;49m\u001b[43mdisable\u001b[49m\u001b[43m,\u001b[49m\n\u001b[0;32m     55\u001b[0m \u001b[43m        \u001b[49m\u001b[43menable\u001b[49m\u001b[38;5;241;43m=\u001b[39;49m\u001b[43menable\u001b[49m\u001b[43m,\u001b[49m\n\u001b[0;32m     56\u001b[0m \u001b[43m        \u001b[49m\u001b[43mexclude\u001b[49m\u001b[38;5;241;43m=\u001b[39;49m\u001b[43mexclude\u001b[49m\u001b[43m,\u001b[49m\n\u001b[0;32m     57\u001b[0m \u001b[43m        \u001b[49m\u001b[43mconfig\u001b[49m\u001b[38;5;241;43m=\u001b[39;49m\u001b[43mconfig\u001b[49m\u001b[43m,\u001b[49m\n\u001b[0;32m     58\u001b[0m \u001b[43m    \u001b[49m\u001b[43m)\u001b[49m\n",
            "File \u001b[1;32mc:\\Users\\ks797\\AppData\\Local\\pypoetry\\Cache\\virtualenvs\\ds-rEpFRPgy-py3.12\\Lib\\site-packages\\spacy\\util.py:472\u001b[0m, in \u001b[0;36mload_model\u001b[1;34m(name, vocab, disable, enable, exclude, config)\u001b[0m\n\u001b[0;32m    470\u001b[0m \u001b[38;5;28;01mif\u001b[39;00m name \u001b[38;5;129;01min\u001b[39;00m OLD_MODEL_SHORTCUTS:\n\u001b[0;32m    471\u001b[0m     \u001b[38;5;28;01mraise\u001b[39;00m \u001b[38;5;167;01mIOError\u001b[39;00m(Errors\u001b[38;5;241m.\u001b[39mE941\u001b[38;5;241m.\u001b[39mformat(name\u001b[38;5;241m=\u001b[39mname, full\u001b[38;5;241m=\u001b[39mOLD_MODEL_SHORTCUTS[name]))  \u001b[38;5;66;03m# type: ignore[index]\u001b[39;00m\n\u001b[1;32m--> 472\u001b[0m \u001b[38;5;28;01mraise\u001b[39;00m \u001b[38;5;167;01mIOError\u001b[39;00m(Errors\u001b[38;5;241m.\u001b[39mE050\u001b[38;5;241m.\u001b[39mformat(name\u001b[38;5;241m=\u001b[39mname))\n",
            "\u001b[1;31mOSError\u001b[0m: [E050] Can't find model 'en_core_web_sm'. It doesn't seem to be a Python package or a valid path to a data directory."
          ]
        }
      ],
      "source": [
        "nlp = spacy.load(\"en_core_web_sm\")"
      ]
    },
    {
      "cell_type": "code",
      "execution_count": null,
      "metadata": {},
      "outputs": [],
      "source": [
        "# Текст для обробки\n",
        "text = \"This is an example sentence for tokenization and lemmatization.\"\n",
        "\n",
        "# Токенізація\n",
        "doc = nlp(text)\n",
        "tokens = [token.text for token in doc]\n",
        "print(tokens)"
      ]
    },
    {
      "cell_type": "code",
      "execution_count": null,
      "metadata": {},
      "outputs": [],
      "source": [
        "tokens = word_tokenize(text)\n",
        "sentences = sent_tokenize(text)\n",
        "stop_words = set(stopwords.words(\"english\"))"
      ]
    },
    {
      "cell_type": "code",
      "execution_count": null,
      "metadata": {},
      "outputs": [],
      "source": [
        "punctuation = punctuation + \"\\n\""
      ]
    },
    {
      "cell_type": "code",
      "execution_count": null,
      "metadata": {},
      "outputs": [],
      "source": [
        "word_frequencies = {}\n",
        "for word in doc:\n",
        "    if word.text.lower() not in stopwords:\n",
        "        if word.text.lower() not in punctuation:\n",
        "            if word.text not in word_frequencies.keys():\n",
        "                word_frequencies[word.text] = 1\n",
        "            else:\n",
        "                word_frequencies[word.text] += 1"
      ]
    },
    {
      "cell_type": "code",
      "execution_count": null,
      "metadata": {},
      "outputs": [],
      "source": [
        "select_length = int(len(sentence_tokens))\n",
        "summary = nlargest(select_length, sentence_scores, key=sentence_scores.get)\n",
        "summary"
      ]
    },
    {
      "cell_type": "markdown",
      "metadata": {},
      "source": [
        "<div class=\"alert alert-block alert-info\">\n",
        "\n",
        "#### **Висновки:**\n",
        "\n",
        "#### Найкращу точність на тестових даних показала модель *Gated Recurrent Unit (GRU)* - майже **90%**\n",
        "#### На другому місці, з результатом **89.16%** - модель *Long Short-Term Memory (LSTM)*\n",
        "#### Найгірша точність у моделі *Simple Recurrent Neural Network (RNN)* - **81,14%**\n",
        "#### Всі моделі демонструюсь високу точність (>92%) на тренувальних даних, при цьому дуже швидко настає перенавчання, яке вдалося трохи зменшити за рахунок _dropout'у_ та _skip_top_\n",
        "#### Модель *Deep Recurrent Neural Network (DRNN)* навчається в 2+ рази довше за решту, при цьому результат видає середній \n",
        "\n",
        "</div>"
      ]
    }
  ],
  "metadata": {
    "anaconda-cloud": {},
    "colab": {
      "provenance": []
    },
    "kernelspec": {
      "display_name": "ds-rEpFRPgy-py3.12",
      "language": "python",
      "name": "python3"
    },
    "language_info": {
      "codemirror_mode": {
        "name": "ipython",
        "version": 3
      },
      "file_extension": ".py",
      "mimetype": "text/x-python",
      "name": "python",
      "nbconvert_exporter": "python",
      "pygments_lexer": "ipython3",
      "version": "3.12.2"
    }
  },
  "nbformat": 4,
  "nbformat_minor": 0
}
