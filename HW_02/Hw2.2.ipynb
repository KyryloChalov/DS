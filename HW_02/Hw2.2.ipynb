{
 "cells": [
  {
   "cell_type": "markdown",
   "metadata": {},
   "source": [
    "# Модуль 2. **Дослідницький аналіз даних**"
   ]
  },
  {
   "cell_type": "markdown",
   "metadata": {},
   "source": [
    "## Частина друга: Аналіз файлів"
   ]
  },
  {
   "cell_type": "code",
   "execution_count": 176,
   "metadata": {},
   "outputs": [],
   "source": [
    "import pandas as pd\n",
    "%matplotlib inline\n",
    "import matplotlib.pyplot as plt\n",
    "import seaborn as sns"
   ]
  },
  {
   "cell_type": "markdown",
   "metadata": {},
   "source": [
    "#### Прочитайте файл 2017_jun_final.csv за допомогою методу read_csv [посилання](https://docs.google.com/spreadsheets/d/1bclX5PbqE8zR1-wOSM3ZTFa53sIC7RXqwty7Abmw9yQ/edit#gid=1724592523) "
   ]
  },
  {
   "cell_type": "code",
   "execution_count": 177,
   "metadata": {},
   "outputs": [],
   "source": [
    "url = \"https://docs.google.com/spreadsheets/d/1bclX5PbqE8zR1-wOSM3ZTFa53sIC7RXqwty7Abmw9yQ/export?format=csv&id=1bclX5PbqE8zR1-wOSM3ZTFa53sIC7RXqwty7Abmw9yQ&gid=1724592523\"\n",
    "df = pd.read_csv(url)\n",
    "# df"
   ]
  },
  {
   "cell_type": "markdown",
   "metadata": {},
   "source": [
    "#### Прочитайте отриману таблицю, використовуючи метод head"
   ]
  },
  {
   "cell_type": "code",
   "execution_count": 178,
   "metadata": {},
   "outputs": [
    {
     "data": {
      "text/html": [
       "<div>\n",
       "<style scoped>\n",
       "    .dataframe tbody tr th:only-of-type {\n",
       "        vertical-align: middle;\n",
       "    }\n",
       "\n",
       "    .dataframe tbody tr th {\n",
       "        vertical-align: top;\n",
       "    }\n",
       "\n",
       "    .dataframe thead th {\n",
       "        text-align: right;\n",
       "    }\n",
       "</style>\n",
       "<table border=\"1\" class=\"dataframe\">\n",
       "  <thead>\n",
       "    <tr style=\"text-align: right;\">\n",
       "      <th></th>\n",
       "      <th>N</th>\n",
       "      <th>Посада</th>\n",
       "      <th>Мова програмування</th>\n",
       "      <th>Спеціалізація</th>\n",
       "      <th>Загальний досвід роботи</th>\n",
       "      <th>Досвід роботи на поточному місці</th>\n",
       "      <th>Зарплата на місяць</th>\n",
       "      <th>Зміна зарплати за 12 місяців</th>\n",
       "      <th>Місто</th>\n",
       "      <th>Розмір компанії</th>\n",
       "      <th>...</th>\n",
       "      <th>Ще студент</th>\n",
       "      <th>Рівень англійської</th>\n",
       "      <th>Предметна область</th>\n",
       "      <th>Дата заповнення</th>\n",
       "      <th>User.Agent</th>\n",
       "      <th>exp</th>\n",
       "      <th>current_job_exp</th>\n",
       "      <th>salary</th>\n",
       "      <th>Валюта</th>\n",
       "      <th>cls</th>\n",
       "    </tr>\n",
       "  </thead>\n",
       "  <tbody>\n",
       "    <tr>\n",
       "      <th>0</th>\n",
       "      <td>1</td>\n",
       "      <td>Junior QA engineer</td>\n",
       "      <td>NaN</td>\n",
       "      <td>Manual QA</td>\n",
       "      <td>0.5</td>\n",
       "      <td>0.5</td>\n",
       "      <td>400</td>\n",
       "      <td>0</td>\n",
       "      <td>Харків</td>\n",
       "      <td>до 10 осіб</td>\n",
       "      <td>...</td>\n",
       "      <td>True</td>\n",
       "      <td>Pre-intermediate (нище середнього)</td>\n",
       "      <td>iOS,eCommerce</td>\n",
       "      <td>12/06/2017 12:38:08</td>\n",
       "      <td>Mozilla/5.0 (Windows NT 10.0; Win64; x64) Appl...</td>\n",
       "      <td>0.5</td>\n",
       "      <td>0.5</td>\n",
       "      <td>400</td>\n",
       "      <td>NaN</td>\n",
       "      <td>QA</td>\n",
       "    </tr>\n",
       "    <tr>\n",
       "      <th>1</th>\n",
       "      <td>2</td>\n",
       "      <td>Junior QA engineer</td>\n",
       "      <td>NaN</td>\n",
       "      <td>Manual QA</td>\n",
       "      <td>менше 3 місяців</td>\n",
       "      <td>менше 3 місяців</td>\n",
       "      <td>430</td>\n",
       "      <td>130</td>\n",
       "      <td>Харків</td>\n",
       "      <td>більше 1000 осіб</td>\n",
       "      <td>...</td>\n",
       "      <td>True</td>\n",
       "      <td>Upper-Intermediate (вище середнього)</td>\n",
       "      <td>Веб-розробка</td>\n",
       "      <td>12/06/2017 12:42:51</td>\n",
       "      <td>Mozilla/5.0 (iPad; CPU OS 10_2_1 like Mac OS X...</td>\n",
       "      <td>0.0</td>\n",
       "      <td>0.0</td>\n",
       "      <td>430</td>\n",
       "      <td>NaN</td>\n",
       "      <td>QA</td>\n",
       "    </tr>\n",
       "    <tr>\n",
       "      <th>2</th>\n",
       "      <td>3</td>\n",
       "      <td>Software Engineer</td>\n",
       "      <td>C#/.NET</td>\n",
       "      <td>NaN</td>\n",
       "      <td>4</td>\n",
       "      <td>1</td>\n",
       "      <td>2500</td>\n",
       "      <td>800</td>\n",
       "      <td>Київ</td>\n",
       "      <td>до 1000 осіб</td>\n",
       "      <td>...</td>\n",
       "      <td>False</td>\n",
       "      <td>Intermediate (середній)</td>\n",
       "      <td>Веб-розробка,Корпоративні системи</td>\n",
       "      <td>12/06/2017 13:02:47</td>\n",
       "      <td>Mozilla/5.0 (Windows NT 10.0; Win64; x64) Appl...</td>\n",
       "      <td>4.0</td>\n",
       "      <td>1.0</td>\n",
       "      <td>2500</td>\n",
       "      <td>NaN</td>\n",
       "      <td>DEV</td>\n",
       "    </tr>\n",
       "    <tr>\n",
       "      <th>3</th>\n",
       "      <td>4</td>\n",
       "      <td>Software Engineer</td>\n",
       "      <td>JavaScript</td>\n",
       "      <td>NaN</td>\n",
       "      <td>5</td>\n",
       "      <td>4</td>\n",
       "      <td>2000</td>\n",
       "      <td>400</td>\n",
       "      <td>Одеса</td>\n",
       "      <td>до 200 осіб</td>\n",
       "      <td>...</td>\n",
       "      <td>False</td>\n",
       "      <td>Pre-intermediate (нище середнього)</td>\n",
       "      <td>Desktop Applications,Веб-розробка</td>\n",
       "      <td>12/06/2017 13:03:01</td>\n",
       "      <td>Mozilla/5.0 (Windows NT 6.1; Win64; x64) Apple...</td>\n",
       "      <td>5.0</td>\n",
       "      <td>4.0</td>\n",
       "      <td>2000</td>\n",
       "      <td>NaN</td>\n",
       "      <td>DEV</td>\n",
       "    </tr>\n",
       "    <tr>\n",
       "      <th>4</th>\n",
       "      <td>5</td>\n",
       "      <td>Senior Software Engineer</td>\n",
       "      <td>JavaScript</td>\n",
       "      <td>NaN</td>\n",
       "      <td>10 і більше років</td>\n",
       "      <td>0.5</td>\n",
       "      <td>4500</td>\n",
       "      <td>500</td>\n",
       "      <td>Інше</td>\n",
       "      <td>до 10 осіб</td>\n",
       "      <td>...</td>\n",
       "      <td>False</td>\n",
       "      <td>Intermediate (середній)</td>\n",
       "      <td>Desktop Applications,Веб-розробка</td>\n",
       "      <td>12/06/2017 13:03:47</td>\n",
       "      <td>Mozilla/5.0 (iPhone; CPU iPhone OS 10_3_2 like...</td>\n",
       "      <td>10.0</td>\n",
       "      <td>0.5</td>\n",
       "      <td>4500</td>\n",
       "      <td>NaN</td>\n",
       "      <td>DEV</td>\n",
       "    </tr>\n",
       "  </tbody>\n",
       "</table>\n",
       "<p>5 rows × 25 columns</p>\n",
       "</div>"
      ],
      "text/plain": [
       "   N                    Посада Мова програмування Спеціалізація  \\\n",
       "0  1        Junior QA engineer                NaN     Manual QA   \n",
       "1  2        Junior QA engineer                NaN     Manual QA   \n",
       "2  3         Software Engineer            C#/.NET           NaN   \n",
       "3  4         Software Engineer         JavaScript           NaN   \n",
       "4  5  Senior Software Engineer         JavaScript           NaN   \n",
       "\n",
       "  Загальний досвід роботи Досвід роботи на поточному місці  \\\n",
       "0                     0.5                              0.5   \n",
       "1         менше 3 місяців                  менше 3 місяців   \n",
       "2                       4                                1   \n",
       "3                       5                                4   \n",
       "4       10 і більше років                              0.5   \n",
       "\n",
       "   Зарплата на місяць  Зміна зарплати за 12 місяців   Місто   Розмір компанії  \\\n",
       "0                 400                             0  Харків        до 10 осіб   \n",
       "1                 430                           130  Харків  більше 1000 осіб   \n",
       "2                2500                           800    Київ      до 1000 осіб   \n",
       "3                2000                           400   Одеса       до 200 осіб   \n",
       "4                4500                           500    Інше        до 10 осіб   \n",
       "\n",
       "   ... Ще студент                    Рівень англійської  \\\n",
       "0  ...       True    Pre-intermediate (нище середнього)   \n",
       "1  ...       True  Upper-Intermediate (вище середнього)   \n",
       "2  ...      False               Intermediate (середній)   \n",
       "3  ...      False    Pre-intermediate (нище середнього)   \n",
       "4  ...      False               Intermediate (середній)   \n",
       "\n",
       "                   Предметна область      Дата заповнення  \\\n",
       "0                      iOS,eCommerce  12/06/2017 12:38:08   \n",
       "1                       Веб-розробка  12/06/2017 12:42:51   \n",
       "2  Веб-розробка,Корпоративні системи  12/06/2017 13:02:47   \n",
       "3  Desktop Applications,Веб-розробка  12/06/2017 13:03:01   \n",
       "4  Desktop Applications,Веб-розробка  12/06/2017 13:03:47   \n",
       "\n",
       "                                          User.Agent   exp current_job_exp  \\\n",
       "0  Mozilla/5.0 (Windows NT 10.0; Win64; x64) Appl...   0.5             0.5   \n",
       "1  Mozilla/5.0 (iPad; CPU OS 10_2_1 like Mac OS X...   0.0             0.0   \n",
       "2  Mozilla/5.0 (Windows NT 10.0; Win64; x64) Appl...   4.0             1.0   \n",
       "3  Mozilla/5.0 (Windows NT 6.1; Win64; x64) Apple...   5.0             4.0   \n",
       "4  Mozilla/5.0 (iPhone; CPU iPhone OS 10_3_2 like...  10.0             0.5   \n",
       "\n",
       "  salary Валюта  cls  \n",
       "0    400    NaN   QA  \n",
       "1    430    NaN   QA  \n",
       "2   2500    NaN  DEV  \n",
       "3   2000    NaN  DEV  \n",
       "4   4500    NaN  DEV  \n",
       "\n",
       "[5 rows x 25 columns]"
      ]
     },
     "execution_count": 178,
     "metadata": {},
     "output_type": "execute_result"
    }
   ],
   "source": [
    "df.head()"
   ]
  },
  {
   "cell_type": "markdown",
   "metadata": {},
   "source": [
    "#### Визначте розмір таблиці за допомогою методу shape"
   ]
  },
  {
   "cell_type": "code",
   "execution_count": 179,
   "metadata": {},
   "outputs": [
    {
     "name": "stdout",
     "output_type": "stream",
     "text": [
      "рядків  : 8704\n",
      "стовпців:   25\n"
     ]
    }
   ],
   "source": [
    "print(\"рядків  :\", df.shape[0])\n",
    "print(\"стовпців:  \", df.shape[1])"
   ]
  },
  {
   "cell_type": "markdown",
   "metadata": {},
   "source": [
    "#### Визначте типи всіх стовпців за допомогою dataframe.dtypes"
   ]
  },
  {
   "cell_type": "code",
   "execution_count": 180,
   "metadata": {},
   "outputs": [
    {
     "data": {
      "text/plain": [
       "N                                     int64\n",
       "Посада                               object\n",
       "Мова програмування                   object\n",
       "Спеціалізація                        object\n",
       "Загальний досвід роботи              object\n",
       "Досвід роботи на поточному місці     object\n",
       "Зарплата на місяць                    int64\n",
       "Зміна зарплати за 12 місяців          int64\n",
       "Місто                                object\n",
       "Розмір компанії                      object\n",
       "Тип компанії                         object\n",
       "Стать                                object\n",
       "Вік                                   int64\n",
       "Освіта                               object\n",
       "Університет                          object\n",
       "Ще студент                             bool\n",
       "Рівень англійської                   object\n",
       "Предметна область                    object\n",
       "Дата заповнення                      object\n",
       "User.Agent                           object\n",
       "exp                                 float64\n",
       "current_job_exp                     float64\n",
       "salary                                int64\n",
       "Валюта                               object\n",
       "cls                                  object\n",
       "dtype: object"
      ]
     },
     "execution_count": 180,
     "metadata": {},
     "output_type": "execute_result"
    }
   ],
   "source": [
    "df.dtypes"
   ]
  },
  {
   "cell_type": "markdown",
   "metadata": {},
   "source": [
    "#### Порахуйте, яка частка пропусків міститься в кожній колонці (використовуйте методи isnull та sum)"
   ]
  },
  {
   "cell_type": "code",
   "execution_count": 181,
   "metadata": {},
   "outputs": [
    {
     "name": "stdout",
     "output_type": "stream",
     "text": [
      "кількість:\n",
      "Посада                                 0\n",
      "Мова програмування                  3850\n",
      "Спеціалізація                       7219\n",
      "Загальний досвід роботи                0\n",
      "Досвід роботи на поточному місці       0\n",
      "Зарплата на місяць                     0\n",
      "Зміна зарплати за 12 місяців           0\n",
      "Місто                                  0\n",
      "Розмір компанії                        0\n",
      "Тип компанії                           0\n",
      "Стать                                  0\n",
      "Вік                                    0\n",
      "Освіта                                 0\n",
      "Університет                          358\n",
      "Ще студент                             0\n",
      "Рівень англійської                     0\n",
      "Предметна область                    223\n",
      "Дата заповнення                        0\n",
      "User.Agent                             0\n",
      "exp                                    0\n",
      "current_job_exp                        0\n",
      "salary                                 0\n",
      "Валюта                              8694\n",
      "cls                                 1574\n",
      "dtype: int64\n",
      "частка:\n",
      "Посада                              0.000\n",
      "Мова програмування                  0.442\n",
      "Спеціалізація                       0.829\n",
      "Загальний досвід роботи             0.000\n",
      "Досвід роботи на поточному місці    0.000\n",
      "Зарплата на місяць                  0.000\n",
      "Зміна зарплати за 12 місяців        0.000\n",
      "Місто                               0.000\n",
      "Розмір компанії                     0.000\n",
      "Тип компанії                        0.000\n",
      "Стать                               0.000\n",
      "Вік                                 0.000\n",
      "Освіта                              0.000\n",
      "Університет                         0.041\n",
      "Ще студент                          0.000\n",
      "Рівень англійської                  0.000\n",
      "Предметна область                   0.026\n",
      "Дата заповнення                     0.000\n",
      "User.Agent                          0.000\n",
      "exp                                 0.000\n",
      "current_job_exp                     0.000\n",
      "salary                              0.000\n",
      "Валюта                              0.999\n",
      "cls                                 0.181\n",
      "dtype: float64\n"
     ]
    }
   ],
   "source": [
    "# ToDo - зробити таблицю з 3 колонок\n",
    "print(\"кількість:\")\n",
    "print(df.isnull().sum()[1:])\n",
    "print(\"частка:\")\n",
    "print(round((df.isnull().sum() / df.shape[0])[1:], 3))"
   ]
  },
  {
   "cell_type": "markdown",
   "metadata": {},
   "source": [
    "#### Видаліть усі стовпці з пропусками, крім стовпця \"Мова програмування\""
   ]
  },
  {
   "cell_type": "code",
   "execution_count": 182,
   "metadata": {},
   "outputs": [
    {
     "name": "stdout",
     "output_type": "stream",
     "text": [
      "Стовпці з пропусками\n",
      "['Мова програмування', 'Спеціалізація', 'Університет', 'Предметна область', 'Валюта', 'cls']\n",
      "Стовпці для видалення\n",
      "['Спеціалізація', 'Університет', 'Предметна область', 'Валюта', 'cls']\n"
     ]
    }
   ],
   "source": [
    "# Вибрати стовпці з пропусками\n",
    "columns_mis_val = df.columns[df.isnull().any()].tolist()\n",
    "print(\"Стовпці з пропусками\", columns_mis_val, sep=\"\\n\")\n",
    "# Прибрати \"Мова програмування\" зі списку на видалення\n",
    "columns_to_del = [col for col in columns_mis_val if col != \"Мова програмування\"]\n",
    "print(\"Стовпці для видалення\", columns_to_del, sep=\"\\n\")\n",
    "# Видалити \"зайві\" стовпці\n",
    "df.drop(columns=columns_to_del, inplace=True)\n",
    "# df.head()"
   ]
  },
  {
   "cell_type": "markdown",
   "metadata": {},
   "source": [
    "#### Знову порахуйте, яка частка пропусків міститься в кожній колонці і переконайтеся, що залишився тільки стовпець \"Мова.програмування\""
   ]
  },
  {
   "cell_type": "code",
   "execution_count": 183,
   "metadata": {},
   "outputs": [
    {
     "data": {
      "text/plain": [
       "Посада                                 0\n",
       "Мова програмування                  3850\n",
       "Загальний досвід роботи                0\n",
       "Досвід роботи на поточному місці       0\n",
       "Зарплата на місяць                     0\n",
       "Зміна зарплати за 12 місяців           0\n",
       "Місто                                  0\n",
       "Розмір компанії                        0\n",
       "Тип компанії                           0\n",
       "Стать                                  0\n",
       "Вік                                    0\n",
       "Освіта                                 0\n",
       "Ще студент                             0\n",
       "Рівень англійської                     0\n",
       "Дата заповнення                        0\n",
       "User.Agent                             0\n",
       "exp                                    0\n",
       "current_job_exp                        0\n",
       "salary                                 0\n",
       "dtype: int64"
      ]
     },
     "execution_count": 183,
     "metadata": {},
     "output_type": "execute_result"
    }
   ],
   "source": [
    "df.isnull().sum()[1:]"
   ]
  },
  {
   "cell_type": "markdown",
   "metadata": {},
   "source": [
    "#### Видаліть усі рядки у вихідній таблиці за допомогою методу dropna"
   ]
  },
  {
   "cell_type": "code",
   "execution_count": 184,
   "metadata": {},
   "outputs": [],
   "source": [
    "df.dropna(axis=0, inplace=True)\n",
    "# df"
   ]
  },
  {
   "cell_type": "markdown",
   "metadata": {},
   "source": [
    "#### Визначте новий розмір таблиці за допомогою методу shape"
   ]
  },
  {
   "cell_type": "code",
   "execution_count": 185,
   "metadata": {},
   "outputs": [
    {
     "name": "stdout",
     "output_type": "stream",
     "text": [
      "рядків  : 4854\n",
      "стовпців:   20\n"
     ]
    }
   ],
   "source": [
    "print(\"рядків  :\", df.shape[0])\n",
    "print(\"стовпців:  \", df.shape[1])"
   ]
  },
  {
   "cell_type": "markdown",
   "metadata": {},
   "source": [
    "#### Створіть нову таблицю python_data, в якій будуть тільки рядки зі спеціалістами, які вказали мову програмування Python"
   ]
  },
  {
   "cell_type": "code",
   "execution_count": 186,
   "metadata": {},
   "outputs": [
    {
     "data": {
      "text/html": [
       "<div>\n",
       "<style scoped>\n",
       "    .dataframe tbody tr th:only-of-type {\n",
       "        vertical-align: middle;\n",
       "    }\n",
       "\n",
       "    .dataframe tbody tr th {\n",
       "        vertical-align: top;\n",
       "    }\n",
       "\n",
       "    .dataframe thead th {\n",
       "        text-align: right;\n",
       "    }\n",
       "</style>\n",
       "<table border=\"1\" class=\"dataframe\">\n",
       "  <thead>\n",
       "    <tr style=\"text-align: right;\">\n",
       "      <th></th>\n",
       "      <th>N</th>\n",
       "      <th>Посада</th>\n",
       "      <th>Мова програмування</th>\n",
       "      <th>Загальний досвід роботи</th>\n",
       "      <th>Досвід роботи на поточному місці</th>\n",
       "      <th>Зарплата на місяць</th>\n",
       "      <th>Зміна зарплати за 12 місяців</th>\n",
       "      <th>Місто</th>\n",
       "      <th>Розмір компанії</th>\n",
       "      <th>Тип компанії</th>\n",
       "      <th>Стать</th>\n",
       "      <th>Вік</th>\n",
       "      <th>Освіта</th>\n",
       "      <th>Ще студент</th>\n",
       "      <th>Рівень англійської</th>\n",
       "      <th>Дата заповнення</th>\n",
       "      <th>User.Agent</th>\n",
       "      <th>exp</th>\n",
       "      <th>current_job_exp</th>\n",
       "      <th>salary</th>\n",
       "    </tr>\n",
       "  </thead>\n",
       "  <tbody>\n",
       "    <tr>\n",
       "      <th>12</th>\n",
       "      <td>13</td>\n",
       "      <td>Software Engineer</td>\n",
       "      <td>Python</td>\n",
       "      <td>1</td>\n",
       "      <td>менше 3 місяців</td>\n",
       "      <td>800</td>\n",
       "      <td>200</td>\n",
       "      <td>Київ</td>\n",
       "      <td>до 50 осіб</td>\n",
       "      <td>Аутсорсингова</td>\n",
       "      <td>чоловіча</td>\n",
       "      <td>26</td>\n",
       "      <td>Вища</td>\n",
       "      <td>False</td>\n",
       "      <td>Pre-intermediate (нище середнього)</td>\n",
       "      <td>12/06/2017 13:05:54</td>\n",
       "      <td>Mozilla/5.0 (Windows NT 6.1; Win64; x64) Apple...</td>\n",
       "      <td>1.0</td>\n",
       "      <td>0.0</td>\n",
       "      <td>800</td>\n",
       "    </tr>\n",
       "    <tr>\n",
       "      <th>68</th>\n",
       "      <td>69</td>\n",
       "      <td>Software Engineer</td>\n",
       "      <td>Python</td>\n",
       "      <td>1.5</td>\n",
       "      <td>0.5</td>\n",
       "      <td>900</td>\n",
       "      <td>900</td>\n",
       "      <td>Київ</td>\n",
       "      <td>до 10 осіб</td>\n",
       "      <td>Стартап</td>\n",
       "      <td>чоловіча</td>\n",
       "      <td>21</td>\n",
       "      <td>Неповна Вища</td>\n",
       "      <td>True</td>\n",
       "      <td>Upper-Intermediate (вище середнього)</td>\n",
       "      <td>12/06/2017 13:11:17</td>\n",
       "      <td>Mozilla/5.0 (Windows NT 10.0; Win64; x64) Appl...</td>\n",
       "      <td>1.5</td>\n",
       "      <td>0.5</td>\n",
       "      <td>900</td>\n",
       "    </tr>\n",
       "    <tr>\n",
       "      <th>87</th>\n",
       "      <td>88</td>\n",
       "      <td>Junior Software Engineer</td>\n",
       "      <td>Python</td>\n",
       "      <td>0.5</td>\n",
       "      <td>0.5</td>\n",
       "      <td>600</td>\n",
       "      <td>0</td>\n",
       "      <td>Київ</td>\n",
       "      <td>до 10 осіб</td>\n",
       "      <td>Аутсорсингова</td>\n",
       "      <td>чоловіча</td>\n",
       "      <td>19</td>\n",
       "      <td>Неповна Вища</td>\n",
       "      <td>True</td>\n",
       "      <td>Upper-Intermediate (вище середнього)</td>\n",
       "      <td>12/06/2017 13:12:25</td>\n",
       "      <td>Mozilla/5.0 (X11; Linux x86_64) AppleWebKit/53...</td>\n",
       "      <td>0.5</td>\n",
       "      <td>0.5</td>\n",
       "      <td>600</td>\n",
       "    </tr>\n",
       "    <tr>\n",
       "      <th>114</th>\n",
       "      <td>115</td>\n",
       "      <td>Junior Software Engineer</td>\n",
       "      <td>Python</td>\n",
       "      <td>1.5</td>\n",
       "      <td>0.5</td>\n",
       "      <td>685</td>\n",
       "      <td>250</td>\n",
       "      <td>Київ</td>\n",
       "      <td>до 1000 осіб</td>\n",
       "      <td>Аутсорсингова</td>\n",
       "      <td>чоловіча</td>\n",
       "      <td>21</td>\n",
       "      <td>Неповна Вища</td>\n",
       "      <td>False</td>\n",
       "      <td>Intermediate (середній)</td>\n",
       "      <td>12/06/2017 13:14:52</td>\n",
       "      <td>Mozilla/5.0 (X11; Linux x86_64) AppleWebKit/53...</td>\n",
       "      <td>1.5</td>\n",
       "      <td>0.5</td>\n",
       "      <td>685</td>\n",
       "    </tr>\n",
       "    <tr>\n",
       "      <th>143</th>\n",
       "      <td>144</td>\n",
       "      <td>Junior Software Engineer</td>\n",
       "      <td>Python</td>\n",
       "      <td>1</td>\n",
       "      <td>1</td>\n",
       "      <td>750</td>\n",
       "      <td>250</td>\n",
       "      <td>Київ</td>\n",
       "      <td>до 10 осіб</td>\n",
       "      <td>Аутсорсингова</td>\n",
       "      <td>чоловіча</td>\n",
       "      <td>21</td>\n",
       "      <td>Неповна Вища</td>\n",
       "      <td>True</td>\n",
       "      <td>Upper-Intermediate (вище середнього)</td>\n",
       "      <td>12/06/2017 13:19:10</td>\n",
       "      <td>Mozilla/5.0 (X11; Linux x86_64) AppleWebKit/53...</td>\n",
       "      <td>1.0</td>\n",
       "      <td>1.0</td>\n",
       "      <td>750</td>\n",
       "    </tr>\n",
       "    <tr>\n",
       "      <th>...</th>\n",
       "      <td>...</td>\n",
       "      <td>...</td>\n",
       "      <td>...</td>\n",
       "      <td>...</td>\n",
       "      <td>...</td>\n",
       "      <td>...</td>\n",
       "      <td>...</td>\n",
       "      <td>...</td>\n",
       "      <td>...</td>\n",
       "      <td>...</td>\n",
       "      <td>...</td>\n",
       "      <td>...</td>\n",
       "      <td>...</td>\n",
       "      <td>...</td>\n",
       "      <td>...</td>\n",
       "      <td>...</td>\n",
       "      <td>...</td>\n",
       "      <td>...</td>\n",
       "      <td>...</td>\n",
       "      <td>...</td>\n",
       "    </tr>\n",
       "    <tr>\n",
       "      <th>8546</th>\n",
       "      <td>8547</td>\n",
       "      <td>Software Engineer</td>\n",
       "      <td>Python</td>\n",
       "      <td>5</td>\n",
       "      <td>1</td>\n",
       "      <td>2000</td>\n",
       "      <td>800</td>\n",
       "      <td>Запоріжжя</td>\n",
       "      <td>до 50 осіб</td>\n",
       "      <td>Аутсорсингова</td>\n",
       "      <td>чоловіча</td>\n",
       "      <td>22</td>\n",
       "      <td>Неповна Вища</td>\n",
       "      <td>False</td>\n",
       "      <td>Intermediate (середній)</td>\n",
       "      <td>10/07/2017 14:11:26</td>\n",
       "      <td>Mozilla/5.0 (Macintosh; Intel Mac OS X 10_12_5...</td>\n",
       "      <td>5.0</td>\n",
       "      <td>1.0</td>\n",
       "      <td>2000</td>\n",
       "    </tr>\n",
       "    <tr>\n",
       "      <th>8625</th>\n",
       "      <td>8626</td>\n",
       "      <td>Software Engineer</td>\n",
       "      <td>Python</td>\n",
       "      <td>4</td>\n",
       "      <td>1</td>\n",
       "      <td>1750</td>\n",
       "      <td>0</td>\n",
       "      <td>Київ</td>\n",
       "      <td>більше 1000 осіб</td>\n",
       "      <td>Аутсорсингова</td>\n",
       "      <td>чоловіча</td>\n",
       "      <td>28</td>\n",
       "      <td>Середня</td>\n",
       "      <td>False</td>\n",
       "      <td>Intermediate (середній)</td>\n",
       "      <td>11/07/2017 16:15:40</td>\n",
       "      <td>Mozilla/5.0 (X11; Ubuntu; Linux x86_64; rv:54....</td>\n",
       "      <td>4.0</td>\n",
       "      <td>1.0</td>\n",
       "      <td>1750</td>\n",
       "    </tr>\n",
       "    <tr>\n",
       "      <th>8635</th>\n",
       "      <td>8636</td>\n",
       "      <td>Senior Software Engineer</td>\n",
       "      <td>Python</td>\n",
       "      <td>10 і більше років</td>\n",
       "      <td>менше 3 місяців</td>\n",
       "      <td>4000</td>\n",
       "      <td>1300</td>\n",
       "      <td>Віддалено</td>\n",
       "      <td>до 10 осіб</td>\n",
       "      <td>Стартап</td>\n",
       "      <td>чоловіча</td>\n",
       "      <td>33</td>\n",
       "      <td>Вища</td>\n",
       "      <td>False</td>\n",
       "      <td>Upper-Intermediate (вище середнього)</td>\n",
       "      <td>11/07/2017 17:51:36</td>\n",
       "      <td>Mozilla/5.0 (X11; Linux x86_64) AppleWebKit/53...</td>\n",
       "      <td>10.0</td>\n",
       "      <td>0.0</td>\n",
       "      <td>4000</td>\n",
       "    </tr>\n",
       "    <tr>\n",
       "      <th>8673</th>\n",
       "      <td>8674</td>\n",
       "      <td>Junior Software Engineer</td>\n",
       "      <td>Python</td>\n",
       "      <td>0.5</td>\n",
       "      <td>0.5</td>\n",
       "      <td>350</td>\n",
       "      <td>50</td>\n",
       "      <td>Київ</td>\n",
       "      <td>до 50 осіб</td>\n",
       "      <td>Аутсорсингова</td>\n",
       "      <td>чоловіча</td>\n",
       "      <td>22</td>\n",
       "      <td>Вища</td>\n",
       "      <td>False</td>\n",
       "      <td>Intermediate (середній)</td>\n",
       "      <td>12/07/2017 9:37:16</td>\n",
       "      <td>Mozilla/5.0 (X11; Ubuntu; Linux x86_64; rv:54....</td>\n",
       "      <td>0.5</td>\n",
       "      <td>0.5</td>\n",
       "      <td>350</td>\n",
       "    </tr>\n",
       "    <tr>\n",
       "      <th>8695</th>\n",
       "      <td>8696</td>\n",
       "      <td>Software Engineer</td>\n",
       "      <td>Python</td>\n",
       "      <td>1</td>\n",
       "      <td>0.5</td>\n",
       "      <td>1500</td>\n",
       "      <td>1000</td>\n",
       "      <td>Київ</td>\n",
       "      <td>до 10 осіб</td>\n",
       "      <td>Стартап</td>\n",
       "      <td>чоловіча</td>\n",
       "      <td>29</td>\n",
       "      <td>Вища</td>\n",
       "      <td>False</td>\n",
       "      <td>Intermediate (середній)</td>\n",
       "      <td>12/07/2017 14:39:21</td>\n",
       "      <td>Mozilla/5.0 (X11; Linux x86_64) AppleWebKit/53...</td>\n",
       "      <td>1.0</td>\n",
       "      <td>0.5</td>\n",
       "      <td>1500</td>\n",
       "    </tr>\n",
       "  </tbody>\n",
       "</table>\n",
       "<p>207 rows × 20 columns</p>\n",
       "</div>"
      ],
      "text/plain": [
       "         N                    Посада Мова програмування  \\\n",
       "12      13         Software Engineer             Python   \n",
       "68      69         Software Engineer             Python   \n",
       "87      88  Junior Software Engineer             Python   \n",
       "114    115  Junior Software Engineer             Python   \n",
       "143    144  Junior Software Engineer             Python   \n",
       "...    ...                       ...                ...   \n",
       "8546  8547         Software Engineer             Python   \n",
       "8625  8626         Software Engineer             Python   \n",
       "8635  8636  Senior Software Engineer             Python   \n",
       "8673  8674  Junior Software Engineer             Python   \n",
       "8695  8696         Software Engineer             Python   \n",
       "\n",
       "     Загальний досвід роботи Досвід роботи на поточному місці  \\\n",
       "12                         1                  менше 3 місяців   \n",
       "68                       1.5                              0.5   \n",
       "87                       0.5                              0.5   \n",
       "114                      1.5                              0.5   \n",
       "143                        1                                1   \n",
       "...                      ...                              ...   \n",
       "8546                       5                                1   \n",
       "8625                       4                                1   \n",
       "8635       10 і більше років                  менше 3 місяців   \n",
       "8673                     0.5                              0.5   \n",
       "8695                       1                              0.5   \n",
       "\n",
       "      Зарплата на місяць  Зміна зарплати за 12 місяців      Місто  \\\n",
       "12                   800                           200       Київ   \n",
       "68                   900                           900       Київ   \n",
       "87                   600                             0       Київ   \n",
       "114                  685                           250       Київ   \n",
       "143                  750                           250       Київ   \n",
       "...                  ...                           ...        ...   \n",
       "8546                2000                           800  Запоріжжя   \n",
       "8625                1750                             0       Київ   \n",
       "8635                4000                          1300  Віддалено   \n",
       "8673                 350                            50       Київ   \n",
       "8695                1500                          1000       Київ   \n",
       "\n",
       "       Розмір компанії   Тип компанії     Стать  Вік        Освіта  \\\n",
       "12          до 50 осіб  Аутсорсингова  чоловіча   26          Вища   \n",
       "68          до 10 осіб        Стартап  чоловіча   21  Неповна Вища   \n",
       "87          до 10 осіб  Аутсорсингова  чоловіча   19  Неповна Вища   \n",
       "114       до 1000 осіб  Аутсорсингова  чоловіча   21  Неповна Вища   \n",
       "143         до 10 осіб  Аутсорсингова  чоловіча   21  Неповна Вища   \n",
       "...                ...            ...       ...  ...           ...   \n",
       "8546        до 50 осіб  Аутсорсингова  чоловіча   22  Неповна Вища   \n",
       "8625  більше 1000 осіб  Аутсорсингова  чоловіча   28       Середня   \n",
       "8635        до 10 осіб        Стартап  чоловіча   33          Вища   \n",
       "8673        до 50 осіб  Аутсорсингова  чоловіча   22          Вища   \n",
       "8695        до 10 осіб        Стартап  чоловіча   29          Вища   \n",
       "\n",
       "      Ще студент                    Рівень англійської      Дата заповнення  \\\n",
       "12         False    Pre-intermediate (нище середнього)  12/06/2017 13:05:54   \n",
       "68          True  Upper-Intermediate (вище середнього)  12/06/2017 13:11:17   \n",
       "87          True  Upper-Intermediate (вище середнього)  12/06/2017 13:12:25   \n",
       "114        False               Intermediate (середній)  12/06/2017 13:14:52   \n",
       "143         True  Upper-Intermediate (вище середнього)  12/06/2017 13:19:10   \n",
       "...          ...                                   ...                  ...   \n",
       "8546       False               Intermediate (середній)  10/07/2017 14:11:26   \n",
       "8625       False               Intermediate (середній)  11/07/2017 16:15:40   \n",
       "8635       False  Upper-Intermediate (вище середнього)  11/07/2017 17:51:36   \n",
       "8673       False               Intermediate (середній)   12/07/2017 9:37:16   \n",
       "8695       False               Intermediate (середній)  12/07/2017 14:39:21   \n",
       "\n",
       "                                             User.Agent   exp  \\\n",
       "12    Mozilla/5.0 (Windows NT 6.1; Win64; x64) Apple...   1.0   \n",
       "68    Mozilla/5.0 (Windows NT 10.0; Win64; x64) Appl...   1.5   \n",
       "87    Mozilla/5.0 (X11; Linux x86_64) AppleWebKit/53...   0.5   \n",
       "114   Mozilla/5.0 (X11; Linux x86_64) AppleWebKit/53...   1.5   \n",
       "143   Mozilla/5.0 (X11; Linux x86_64) AppleWebKit/53...   1.0   \n",
       "...                                                 ...   ...   \n",
       "8546  Mozilla/5.0 (Macintosh; Intel Mac OS X 10_12_5...   5.0   \n",
       "8625  Mozilla/5.0 (X11; Ubuntu; Linux x86_64; rv:54....   4.0   \n",
       "8635  Mozilla/5.0 (X11; Linux x86_64) AppleWebKit/53...  10.0   \n",
       "8673  Mozilla/5.0 (X11; Ubuntu; Linux x86_64; rv:54....   0.5   \n",
       "8695  Mozilla/5.0 (X11; Linux x86_64) AppleWebKit/53...   1.0   \n",
       "\n",
       "      current_job_exp  salary  \n",
       "12                0.0     800  \n",
       "68                0.5     900  \n",
       "87                0.5     600  \n",
       "114               0.5     685  \n",
       "143               1.0     750  \n",
       "...               ...     ...  \n",
       "8546              1.0    2000  \n",
       "8625              1.0    1750  \n",
       "8635              0.0    4000  \n",
       "8673              0.5     350  \n",
       "8695              0.5    1500  \n",
       "\n",
       "[207 rows x 20 columns]"
      ]
     },
     "execution_count": 186,
     "metadata": {},
     "output_type": "execute_result"
    }
   ],
   "source": [
    "python_data = df[df[\"Мова програмування\"] == \"Python\"]\n",
    "python_data"
   ]
  },
  {
   "cell_type": "markdown",
   "metadata": {},
   "source": [
    "#### Визначте розмір таблиці python_data за допомогою методу shape"
   ]
  },
  {
   "cell_type": "code",
   "execution_count": 187,
   "metadata": {},
   "outputs": [
    {
     "name": "stdout",
     "output_type": "stream",
     "text": [
      "рядків  : 207\n",
      "стовпців:  20\n"
     ]
    }
   ],
   "source": [
    "print(\"рядків  :\", python_data.shape[0])\n",
    "print(\"стовпців: \", python_data.shape[1])"
   ]
  },
  {
   "cell_type": "markdown",
   "metadata": {},
   "source": [
    "#### Використовуючи метод groupby, виконайте групування за стовпчиком \"Посада\""
   ]
  },
  {
   "cell_type": "code",
   "execution_count": 188,
   "metadata": {},
   "outputs": [
    {
     "data": {
      "text/plain": [
       "Посада\n",
       "Junior Software Engineer     63\n",
       "Senior Software Engineer     31\n",
       "Software Engineer           100\n",
       "System Architect              2\n",
       "Technical Lead               11\n",
       "dtype: int64"
      ]
     },
     "execution_count": 188,
     "metadata": {},
     "output_type": "execute_result"
    }
   ],
   "source": [
    "groupby_job_title = python_data.groupby(\"Посада\", as_index=True)\n",
    "groupby_job_title.size()"
   ]
  },
  {
   "cell_type": "markdown",
   "metadata": {},
   "source": [
    "#### Створіть новий DataFrame, де для згрупованих даних за стовпчиком \"Посада\", виконайте агрегацію даних за допомогою методу agg і знайдіть мінімальне та максимальне значення у стовпчику \"Зарплата.в.місяць\""
   ]
  },
  {
   "cell_type": "code",
   "execution_count": 189,
   "metadata": {},
   "outputs": [
    {
     "data": {
      "text/html": [
       "<div>\n",
       "<style scoped>\n",
       "    .dataframe tbody tr th:only-of-type {\n",
       "        vertical-align: middle;\n",
       "    }\n",
       "\n",
       "    .dataframe tbody tr th {\n",
       "        vertical-align: top;\n",
       "    }\n",
       "\n",
       "    .dataframe thead th {\n",
       "        text-align: right;\n",
       "    }\n",
       "</style>\n",
       "<table border=\"1\" class=\"dataframe\">\n",
       "  <thead>\n",
       "    <tr style=\"text-align: right;\">\n",
       "      <th></th>\n",
       "      <th>min</th>\n",
       "      <th>max</th>\n",
       "    </tr>\n",
       "    <tr>\n",
       "      <th>Посада</th>\n",
       "      <th></th>\n",
       "      <th></th>\n",
       "    </tr>\n",
       "  </thead>\n",
       "  <tbody>\n",
       "    <tr>\n",
       "      <th>Junior Software Engineer</th>\n",
       "      <td>100</td>\n",
       "      <td>1250</td>\n",
       "    </tr>\n",
       "    <tr>\n",
       "      <th>Senior Software Engineer</th>\n",
       "      <td>1300</td>\n",
       "      <td>9200</td>\n",
       "    </tr>\n",
       "    <tr>\n",
       "      <th>Software Engineer</th>\n",
       "      <td>500</td>\n",
       "      <td>5400</td>\n",
       "    </tr>\n",
       "    <tr>\n",
       "      <th>System Architect</th>\n",
       "      <td>3000</td>\n",
       "      <td>5000</td>\n",
       "    </tr>\n",
       "    <tr>\n",
       "      <th>Technical Lead</th>\n",
       "      <td>1425</td>\n",
       "      <td>6200</td>\n",
       "    </tr>\n",
       "  </tbody>\n",
       "</table>\n",
       "</div>"
      ],
      "text/plain": [
       "                           min   max\n",
       "Посада                              \n",
       "Junior Software Engineer   100  1250\n",
       "Senior Software Engineer  1300  9200\n",
       "Software Engineer          500  5400\n",
       "System Architect          3000  5000\n",
       "Technical Lead            1425  6200"
      ]
     },
     "execution_count": 189,
     "metadata": {},
     "output_type": "execute_result"
    }
   ],
   "source": [
    "group_by_salary = python_data.groupby(\"Посада\").agg({\"Зарплата на місяць\": [\"min\", \"max\"]})\n",
    "group_by_salary.columns = [\"min\", \"max\"]\n",
    "group_by_salary"
   ]
  },
  {
   "cell_type": "markdown",
   "metadata": {},
   "source": [
    "#### Створіть функцію fill_avg_salary, яка повертатиме середнє значення заробітної плати на місяць. Використовуйте її для методу apply та створіть новий стовпчик \"avg\""
   ]
  },
  {
   "cell_type": "code",
   "execution_count": 190,
   "metadata": {},
   "outputs": [
    {
     "data": {
      "text/html": [
       "<div>\n",
       "<style scoped>\n",
       "    .dataframe tbody tr th:only-of-type {\n",
       "        vertical-align: middle;\n",
       "    }\n",
       "\n",
       "    .dataframe tbody tr th {\n",
       "        vertical-align: top;\n",
       "    }\n",
       "\n",
       "    .dataframe thead th {\n",
       "        text-align: right;\n",
       "    }\n",
       "</style>\n",
       "<table border=\"1\" class=\"dataframe\">\n",
       "  <thead>\n",
       "    <tr style=\"text-align: right;\">\n",
       "      <th></th>\n",
       "      <th>min</th>\n",
       "      <th>max</th>\n",
       "      <th>avg</th>\n",
       "    </tr>\n",
       "    <tr>\n",
       "      <th>Посада</th>\n",
       "      <th></th>\n",
       "      <th></th>\n",
       "      <th></th>\n",
       "    </tr>\n",
       "  </thead>\n",
       "  <tbody>\n",
       "    <tr>\n",
       "      <th>Junior Software Engineer</th>\n",
       "      <td>100</td>\n",
       "      <td>1250</td>\n",
       "      <td>675.0</td>\n",
       "    </tr>\n",
       "    <tr>\n",
       "      <th>Senior Software Engineer</th>\n",
       "      <td>1300</td>\n",
       "      <td>9200</td>\n",
       "      <td>5250.0</td>\n",
       "    </tr>\n",
       "    <tr>\n",
       "      <th>Software Engineer</th>\n",
       "      <td>500</td>\n",
       "      <td>5400</td>\n",
       "      <td>2950.0</td>\n",
       "    </tr>\n",
       "    <tr>\n",
       "      <th>System Architect</th>\n",
       "      <td>3000</td>\n",
       "      <td>5000</td>\n",
       "      <td>4000.0</td>\n",
       "    </tr>\n",
       "    <tr>\n",
       "      <th>Technical Lead</th>\n",
       "      <td>1425</td>\n",
       "      <td>6200</td>\n",
       "      <td>3812.5</td>\n",
       "    </tr>\n",
       "  </tbody>\n",
       "</table>\n",
       "</div>"
      ],
      "text/plain": [
       "                           min   max     avg\n",
       "Посада                                      \n",
       "Junior Software Engineer   100  1250   675.0\n",
       "Senior Software Engineer  1300  9200  5250.0\n",
       "Software Engineer          500  5400  2950.0\n",
       "System Architect          3000  5000  4000.0\n",
       "Technical Lead            1425  6200  3812.5"
      ]
     },
     "execution_count": 190,
     "metadata": {},
     "output_type": "execute_result"
    }
   ],
   "source": [
    "salary_python = python_data.groupby('Посада').agg({'Зарплата на місяць' : ['min', 'max']})\n",
    "# salary_python.columns = ['min', 'max']\n",
    "\n",
    "def fill_avg_salary(x):\n",
    "    avg = x.agg({'avg' : 'mean'})\n",
    "    return avg\n",
    "\n",
    "salary_python['avg'] = salary_python.apply(fill_avg_salary, axis = 1)\n",
    "salary_python.columns = ['min', 'max', 'avg']\n",
    "salary_python"
   ]
  },
  {
   "cell_type": "markdown",
   "metadata": {},
   "source": [
    "#### Створіть описову статистику за допомогою методу describe для нового стовпчика."
   ]
  },
  {
   "cell_type": "code",
   "execution_count": 191,
   "metadata": {},
   "outputs": [
    {
     "data": {
      "text/plain": [
       "count       5.000000\n",
       "mean     3337.500000\n",
       "std      1700.091909\n",
       "min       675.000000\n",
       "25%      2950.000000\n",
       "50%      3812.500000\n",
       "75%      4000.000000\n",
       "max      5250.000000\n",
       "Name: avg, dtype: float64"
      ]
     },
     "execution_count": 191,
     "metadata": {},
     "output_type": "execute_result"
    }
   ],
   "source": [
    "salary_python[\"avg\"].describe()"
   ]
  },
  {
   "cell_type": "markdown",
   "metadata": {},
   "source": [
    "#### Збережіть отриману таблицю в CSV файл"
   ]
  },
  {
   "cell_type": "code",
   "execution_count": 192,
   "metadata": {},
   "outputs": [],
   "source": [
    "salary_python.to_csv(\"salary_python.csv\")"
   ]
  },
  {
   "cell_type": "markdown",
   "metadata": {},
   "source": [
    "## **Візуалізація**"
   ]
  },
  {
   "cell_type": "code",
   "execution_count": 193,
   "metadata": {},
   "outputs": [
    {
     "data": {
      "image/png": "[encoded data removed]",
      "text/plain": [
       "<Figure size 1000x600 with 1 Axes>"
      ]
     },
     "metadata": {},
     "output_type": "display_data"
    }
   ],
   "source": [
    "plt.figure(figsize=(10, 6))\n",
    "sns.lineplot(\n",
    "    x=\"exp\",\n",
    "    y=\"salary\",\n",
    "    data=python_data[[\"exp\", \"salary\"]],\n",
    ")\n",
    "plt.title(\"Залежність зарплати від стажу\", color=\"blue\", fontsize=16)\n",
    "plt.xlabel(\"Стаж (роки)\", color=\"blue\")\n",
    "plt.ylabel(\"Зарплата за місяць, USD\", color=\"blue\")\n",
    "plt.grid()\n",
    "plt.legend([\"salary\"], loc=\"best\")\n",
    "plt.xticks(python_data[\"exp\"].round(0), rotation=0, ha=\"center\", fontsize=10)\n",
    "plt.show()"
   ]
  },
  {
   "cell_type": "code",
   "execution_count": 194,
   "metadata": {},
   "outputs": [
    {
     "data": {
      "image/png": "[encoded data removed]",
      "text/plain": [
       "<Figure size 1000x600 with 1 Axes>"
      ]
     },
     "metadata": {},
     "output_type": "display_data"
    }
   ],
   "source": [
    "positions = [\n",
    "    \"Junior Software Engineer\",\n",
    "    \"Senior Software Engineer\",\n",
    "    \"Software Engineer\",\n",
    "    \"System Architect\",\n",
    "    \"Technical Lead\",\n",
    "]\n",
    "min_salary = [100, 1300, 500, 3000, 1425]\n",
    "max_salary = [1250, 9200, 5400, 5000, 6200]\n",
    "avg_salary = [675.0, 5250.0, 2950.0, 4000.0, 3812.5]\n",
    "\n",
    "# Plotting\n",
    "x = range(len(positions))\n",
    "width = 0.2\n",
    "\n",
    "plt.figure(figsize=(10, 6))\n",
    "\n",
    "plt.bar(x, min_salary, width, label=\"Min Salary\", color=\"blue\")\n",
    "plt.bar([i + width for i in x], max_salary, width, label=\"Max Salary\", color=\"red\")\n",
    "plt.bar(\n",
    "    [i + width * 2 for i in x],\n",
    "    avg_salary,\n",
    "    width,\n",
    "    label=\"Avg Salary\",\n",
    "    color=\"lightgreen\",\n",
    ")\n",
    "\n",
    "plt.xlabel(\"Position\")\n",
    "plt.ylabel(\"Salary\")\n",
    "plt.title(\"Salary Information by Position\")\n",
    "plt.xticks([i + width for i in x], positions, rotation=0, ha=\"center\", fontsize=8)\n",
    "plt.legend()\n",
    "\n",
    "plt.tight_layout()\n",
    "plt.show()"
   ]
  },
  {
   "cell_type": "code",
   "execution_count": 195,
   "metadata": {},
   "outputs": [
    {
     "data": {
      "image/png": "[encoded data removed]",
      "text/plain": [
       "<Figure size 800x800 with 1 Axes>"
      ]
     },
     "metadata": {},
     "output_type": "display_data"
    }
   ],
   "source": [
    "group_sizes = groupby_job_title.size()\n",
    "\n",
    "explode = [0] * len(group_sizes)\n",
    "explode[0] = 0.08 \n",
    "explode[1] = 0.0\n",
    "explode[4] = 0.0\n",
    "\n",
    "# Plotting\n",
    "plt.figure(figsize=(8, 8))\n",
    "plt.pie(\n",
    "    group_sizes,\n",
    "    labels=group_sizes.index,\n",
    "    explode=explode,\n",
    "    shadow=True,\n",
    "    autopct=\"%1.1f%%\",\n",
    "    startangle=-10,\n",
    ")\n",
    "plt.title(\"Розподіл позицій\", fontsize=16)\n",
    "\n",
    "plt.show()"
   ]
  }
 ],
 "metadata": {
  "kernelspec": {
   "display_name": "ds-rEpFRPgy-py3.12",
   "language": "python",
   "name": "python3"
  },
  "language_info": {
   "codemirror_mode": {
    "name": "ipython",
    "version": 3
   },
   "file_extension": ".py",
   "mimetype": "text/x-python",
   "name": "python",
   "nbconvert_exporter": "python",
   "pygments_lexer": "ipython3",
   "version": "3.12.2"
  }
 },
 "nbformat": 4,
 "nbformat_minor": 2
}
